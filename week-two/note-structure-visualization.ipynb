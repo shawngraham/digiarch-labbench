{
 "cells": [
  {
   "cell_type": "markdown",
   "id": "9501b5a8-dca8-4fa3-92a0-4b1f7a1db955",
   "metadata": {},
   "source": [
    "This is a computational notebook file, signalled by the use of `.pynb` in the filename. This notebook contains python code that will visualize the data in the `wikilink-index.json` file created by our lab-bench's 'backlinks' function. That is to say, as you develop linked thoughts, the backlinks function keeps track of the structure of your notes, and this present file can visualize it as a network aka 'graph'. \n",
    "\n",
    "Make sure your file tray at left has a file called 'wikilink-index.json'. This gets generated when you first examine your lab bench for back links by hitting alt/option b to open, close, then re-open the backlinks panel. Examine that file. You'll see that there is a 'key' called 'links' and another key called 'backlinks'. These two structures get updated with the information showing how all your notes interlink.\n",
    "\n",
    "Progress through this file by clicking each cell below then hitting the 'play' button or ctrl+enter. You'll know that the cell has run when the little [ ] at the left of each cell changes from [ ] to [*] to [1]. The numbers keep track of the order in which you've run the cell. Some cells merely 'set the stage' as it were, importing the little pieces of pre-made code we'll use; others define functions that we'll run later. You need to run those 'stage setting' cells, or else when you actually DO run a function (eg `load_wikilink_data`) you'll get errors."
   ]
  },
  {
   "cell_type": "code",
   "execution_count": 1,
   "id": "29522bfd-08c4-4957-956d-2ccb7df2c051",
   "metadata": {},
   "outputs": [],
   "source": [
    "import json\n",
    "import matplotlib.pyplot as plt\n",
    "import networkx as nx"
   ]
  },
  {
   "cell_type": "markdown",
   "id": "b77dfab4-8981-4e44-a54a-0e54ccc80969",
   "metadata": {},
   "source": [
    "When you ran the cell above, nothing seemed to happen, right? But you'll notice that the [ ] at the left of it has now changed to [1]. Which means it ran successfully, and there is no output to report. So keep going!"
   ]
  },
  {
   "cell_type": "code",
   "execution_count": 45,
   "id": "5ff22b03-93fb-42e8-82ab-b58f3988a989",
   "metadata": {},
   "outputs": [],
   "source": [
    "def load_wikilink_data(filepath):\n",
    "    \"\"\"Load the wikilink JSON file.\"\"\"\n",
    "    with open(filepath, 'r') as f:\n",
    "        return json.load(f)\n",
    "\n",
    "def create_graph(data):\n",
    "    \"\"\"Create a NetworkX graph from the wikilink data \n",
    "       including both links and backlinks.\"\"\"\n",
    "    G = nx.Graph()\n",
    "    \n",
    "    # Process forward links\n",
    "    \n",
    "    links = data.get('links', {})\n",
    "    \n",
    "    for source, targets in links.items():\n",
    "        # source is filename WITH extension\n",
    "        # targets are filenames WITHOUT extension\n",
    "        if isinstance(targets, list):\n",
    "            for target in targets:\n",
    "                G.add_edge(source, target)\n",
    "        elif isinstance(targets, dict):\n",
    "            for target in targets.keys():\n",
    "                G.add_edge(source, target)\n",
    "        else:\n",
    "            # Handle case where targets might be a single value\n",
    "            G.add_edge(source, targets)\n",
    "    \n",
    "    # Process backlinks\n",
    "    backlinks = data.get('backlinks', {})\n",
    "    for target, sources in backlinks.items():\n",
    "        # target is filename WITHOUT extension\n",
    "        # sources are filenames WITH extension\n",
    "        if isinstance(sources, list):\n",
    "            for source in sources:\n",
    "                G.add_edge(source, target)\n",
    "        elif isinstance(sources, dict):\n",
    "            for source in sources.keys():\n",
    "                G.add_edge(source, target)\n",
    "        else:\n",
    "            # Handle case where sources might be a single value\n",
    "            G.add_edge(sources, target)\n",
    "    \n",
    "    return G\n",
    "\n"
   ]
  },
  {
   "cell_type": "code",
   "execution_count": 3,
   "id": "4e673c19-c570-4c7a-9f0b-09af283ecd24",
   "metadata": {},
   "outputs": [],
   "source": [
    "def create_directed_graph(data):\n",
    "    \"\"\"Create a directed NetworkX graph from the wikilink data.\"\"\"\n",
    "    G = nx.DiGraph()\n",
    "    \n",
    "    # Process forward links (source -> target)\n",
    "    links = data.get('links', {})\n",
    "    for source, targets in links.items():\n",
    "        if isinstance(targets, list):\n",
    "            for target in targets:\n",
    "                G.add_edge(source, target)\n",
    "        elif isinstance(targets, dict):\n",
    "            for target in targets.keys():\n",
    "                G.add_edge(source, target)\n",
    "        else:\n",
    "            G.add_edge(source, targets)\n",
    "    \n",
    "    # Process backlinks (source -> target, where backlink structure is inverted)\n",
    "    backlinks = data.get('backlinks', {})\n",
    "    for target, sources in backlinks.items():\n",
    "        if isinstance(sources, list):\n",
    "            for source in sources:\n",
    "                G.add_edge(source, target)\n",
    "        elif isinstance(sources, dict):\n",
    "            for source in sources.keys():\n",
    "                G.add_edge(source, target)\n",
    "        else:\n",
    "            G.add_edge(sources, target)\n",
    "    \n",
    "    return G"
   ]
  },
  {
   "cell_type": "code",
   "execution_count": 4,
   "id": "5a52436f-bac0-447c-ac41-9490bed72bef",
   "metadata": {},
   "outputs": [],
   "source": [
    "def show_graph_info(G):\n",
    "    \"\"\"Print basic information about the graph.\"\"\"\n",
    "    print(f\"Nodes: {len(G.nodes())}\")\n",
    "    print(f\"Edges: {len(G.edges())}\")\n",
    "    if len(G.nodes()) > 0:\n",
    "        print(f\"Average connections: {sum(dict(G.degree()).values()) / len(G.nodes()):.1f}\")\n",
    "\n",
    "def plot_graph(G):\n",
    "    \"\"\"Create a simple visualization of the graph.\"\"\"\n",
    "    plt.figure(figsize=(10, 8))\n",
    "    \n",
    "    if len(G.nodes()) == 0:\n",
    "        plt.text(0.5, 0.5, 'No links found', ha='center', va='center', fontsize=16)\n",
    "        plt.xlim(0, 1)\n",
    "        plt.ylim(0, 1)\n",
    "    else:\n",
    "        pos = nx.spring_layout(G)\n",
    "        nx.draw(G, pos, with_labels=True, node_color='lightblue', \n",
    "                node_size=1000, font_size=10, font_weight='bold')\n",
    "    \n",
    "    plt.title('WikiLink Graph')\n",
    "    plt.axis('off')\n",
    "    plt.show()"
   ]
  },
  {
   "cell_type": "markdown",
   "id": "7a9b6702-a58d-4f19-83cc-0465031ed722",
   "metadata": {},
   "source": [
    "Now that all your functions are defined, let's feed them some data and see what your notes look like! This next cell will load your data; create a graph from your data; show you some statistics about your data; and then plot your data. If you get an error about something not being found... have you got a wikilink-index.json file? Did you run all of the 'stage setting' cells above?"
   ]
  },
  {
   "cell_type": "code",
   "execution_count": null,
   "id": "ea190ef8-c002-4890-bd50-f626b54c0d4d",
   "metadata": {},
   "outputs": [],
   "source": [
    "data = load_wikilink_data('../wikilink-index.json')\n",
    "graph = create_graph(data)\n",
    "show_graph_info(graph)\n",
    "plot_graph(graph)"
   ]
  },
  {
   "cell_type": "markdown",
   "id": "34ad4833-d659-4f61-b41b-a8f4680d3a77",
   "metadata": {},
   "source": [
    "Probably looks really messy, eh? Notice that there are some links in there with ## or bullet points or [[ markers and so on? Our data contains extra stuff. If you examine the wikilink-index.json file, you'll see that there are 'values' in the key:value pairs where extra context has crept in. This is a function of how the back-links feature tries to be greedy. Fortunately, we can see that such data uses back-ticks, which makes it easy to identify. So let's re-write our 'load_wikilink_data' function so that we filter out any data that has backticks:"
   ]
  },
  {
   "cell_type": "code",
   "execution_count": 53,
   "id": "5b436615-58a8-4af8-9f20-7a3fba32295e",
   "metadata": {},
   "outputs": [],
   "source": [
    "def load_wikilink_data(filepath):\n",
    "    \"\"\"Load the wikilink JSON file and filter out values containing backticks.\"\"\"\n",
    "    with open(filepath, 'r') as f:\n",
    "        data = json.load(f)\n",
    "    \n",
    "    # Filter out entries containing backticks\n",
    "    filtered_data = {'links': {}, 'backlinks': {}}\n",
    "    \n",
    "    # Filter links\n",
    "    if 'links' in data:\n",
    "        for source, targets in data['links'].items():\n",
    "            if '`' in source:\n",
    "                continue\n",
    "            \n",
    "            filtered_targets = []\n",
    "            if isinstance(targets, list):\n",
    "                filtered_targets = [t for t in targets if '`' not in str(t)]\n",
    "            elif isinstance(targets, dict):\n",
    "                filtered_targets = {k: v for k, v in targets.items() if '`' not in str(k)}\n",
    "            else:\n",
    "                if '`' not in str(targets):\n",
    "                    filtered_targets = targets\n",
    "            \n",
    "            if filtered_targets:  # Only add if there are valid targets\n",
    "                filtered_data['links'][source] = filtered_targets\n",
    "    \n",
    "    # Filter backlinks\n",
    "    if 'backlinks' in data:\n",
    "        for target, sources in data['backlinks'].items():\n",
    "            if '`' in target:\n",
    "                continue\n",
    "            \n",
    "            filtered_sources = []\n",
    "            if isinstance(sources, list):\n",
    "                filtered_sources = [s for s in sources if '`' not in str(s)]\n",
    "            elif isinstance(sources, dict):\n",
    "                filtered_sources = {k: v for k, v in sources.items() if '`' not in str(k)}\n",
    "            else:\n",
    "                if '`' not in str(sources):\n",
    "                    filtered_sources = sources\n",
    "            \n",
    "            if filtered_sources:  # Only add if there are valid sources\n",
    "                filtered_data['backlinks'][target] = filtered_sources\n",
    "    \n",
    "    return filtered_data"
   ]
  },
  {
   "cell_type": "code",
   "execution_count": null,
   "id": "7cf3aff2-ff6d-43f3-871c-872684d3a587",
   "metadata": {},
   "outputs": [],
   "source": [
    "## Re Run!\n",
    "## Because we're not changing any other functions, we can re-run all our code.\n",
    "data = load_wikilink_data('../wikilink-index.json')\n",
    "graph = create_graph(data)\n",
    "show_graph_info(graph)\n",
    "plot_graph(graph)"
   ]
  },
  {
   "cell_type": "markdown",
   "id": "ae17e0bd-5053-4e82-be75-f192ad2393f8",
   "metadata": {},
   "source": [
    "Ok, that's better, but let's change the layout to make it easier to read. We'll truncate labels, and try to avoid overlap. To do that, we'll change the graph plot code."
   ]
  },
  {
   "cell_type": "code",
   "execution_count": 56,
   "id": "ee5e5e3d-687e-4493-ab11-74ad573d3f3f",
   "metadata": {},
   "outputs": [],
   "source": [
    "def plot_graph2(G, max_label_length=15):\n",
    "    \"\"\"Create a visualization using only NetworkX and matplotlib (no external deps).\"\"\"\n",
    "    plt.figure(figsize=(14, 10))\n",
    "    \n",
    "    if len(G.nodes()) == 0:\n",
    "        plt.text(0.5, 0.5, 'No links found', ha='center', va='center', fontsize=16)\n",
    "        plt.xlim(0, 1)\n",
    "        plt.ylim(0, 1)\n",
    "    else:\n",
    "        # Try to use ForceAtlas2 layout from NetworkX, fallback to spring layout\n",
    "        try:\n",
    "            pos = nx.forceatlas2_layout(G)\n",
    "            layout_name = \"ForceAtlas2\"\n",
    "        except (AttributeError, ImportError):\n",
    "            # Fallback to spring layout if ForceAtlas2 is not available\n",
    "            pos = nx.spring_layout(G, k=3, iterations=50)\n",
    "            layout_name = \"Spring\"\n",
    "        \n",
    "        # Create shortened labels\n",
    "        def shorten_label(label, max_length=max_label_length):\n",
    "            label = label.replace('.md', '').replace('.txt', '').replace('.org', '')\n",
    "            if len(label) > max_length:\n",
    "                return label[:max_length-3] + '...'\n",
    "            return label\n",
    "        \n",
    "        shortened_labels = {node: shorten_label(node) for node in G.nodes()}\n",
    "        \n",
    "        # Draw the graph\n",
    "        nx.draw_networkx_edges(G, pos, alpha=0.3, edge_color='gray', width=0.5)\n",
    "        nx.draw_networkx_nodes(G, pos, node_color='lightblue', \n",
    "                              node_size=300, alpha=0.8)\n",
    "        nx.draw_networkx_labels(G, pos, labels=shortened_labels,\n",
    "                               font_size=8, font_weight='normal')\n",
    "    \n",
    "    plt.title(f'WikiLink Graph ({layout_name} Layout)', fontsize=16, pad=20)\n",
    "    plt.axis('off')\n",
    "    plt.tight_layout()\n",
    "    plt.show()"
   ]
  },
  {
   "cell_type": "code",
   "execution_count": null,
   "id": "db2652a6-86aa-4b6b-9301-fe05309b83fb",
   "metadata": {},
   "outputs": [],
   "source": [
    "plot_graph2(graph)\n"
   ]
  },
  {
   "cell_type": "markdown",
   "id": "fa41ac20-ae80-4f75-92ea-09be5585c2ee",
   "metadata": {},
   "source": [
    "Which notes seem to be most important to you? What might that imply about your observations and thoughts so far in this course?\n",
    "\n",
    "Make sure to save your changes (ctrl+s). You can make a new markdown note by hitting the big plus button at top left and selecting 'markdown'. Then, you can write your thoughts and observations about this visualization, linking back to this note (or indeed, any of the individual cells! Check out View -> Command Palette -> PKM: Show Notebook Overview)"
   ]
  }
 ],
 "metadata": {
  "kernelspec": {
   "display_name": "Python 3 (ipykernel)",
   "language": "python",
   "name": "python3"
  },
  "language_info": {
   "codemirror_mode": {
    "name": "ipython",
    "version": 3
   },
   "file_extension": ".py",
   "mimetype": "text/x-python",
   "name": "python",
   "nbconvert_exporter": "python",
   "pygments_lexer": "ipython3",
   "version": "3.12.5"
  }
 },
 "nbformat": 4,
 "nbformat_minor": 5
}
