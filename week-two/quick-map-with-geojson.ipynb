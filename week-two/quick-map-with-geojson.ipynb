{
 "cells": [
  {
   "cell_type": "markdown",
   "id": "5f8a25c2-d363-4d42-8767-009b2de3be84",
   "metadata": {},
   "source": [
    "Because we installed a package called 'jupyter-geojson' when we first set up the labbench, this environment knows how to visualize a file type called 'geojson'. Geojson lists all of the spatial features of a map as a list of data points. Go to [geojson.io](https://geojson.io) and find your graveyard. Use the polygon drawing features to draw the boundaries of your graveyard. Then, use the point feature to mark each gravestone. Double-click on a point to add metadata about your gravestone, eg `id`:`mfc1` and so on. Notice in geojson.io you can see your data as you create it under the 'json' tab. Copy all of that data from the { to the }, and place it between the ( and ) in the cell below. Then run the cell!"
   ]
  },
  {
   "cell_type": "code",
   "execution_count": null,
   "id": "8f18325d-d31a-45b7-b487-029eddb2930a",
   "metadata": {},
   "outputs": [],
   "source": [
    "from IPython.display import GeoJSON\n",
    "GeoJSON(\n",
    "\n",
    "    \n",
    ")"
   ]
  },
  {
   "cell_type": "markdown",
   "id": "b24a2f36-8771-4e4c-8c06-557fce6290ff",
   "metadata": {},
   "source": [
    "Notice also that you can save that data as a geojson file, and then in jupyterlab double-clicking the file in the file tray will open it as a new tab. Go click on `moodie.geojson` to see that in action.\n",
    "\n",
    "The code below will put the geojson_data data into a text file with the .geojson file extension; swap yours in. Then refresh the file tray at left and you'll see your materials."
   ]
  },
  {
   "cell_type": "code",
   "execution_count": 3,
   "id": "6fa93053-4d49-4e36-99bb-d7acf1f9ed7d",
   "metadata": {},
   "outputs": [],
   "source": [
    "## here's how we can write the data to .geojson for safekeeping:\n",
    "import json\n",
    "\n",
    "def write_geojson_to_file(geojson_data, filename):\n",
    "    \"\"\"\n",
    "    Write GeoJSON data to a file.\n",
    "    \n",
    "    Args:\n",
    "        geojson_data (dict): The GeoJSON data structure\n",
    "        filename (str): Output filename (should end with .geojson or .json)\n",
    "    \"\"\"\n",
    "    with open(filename, 'w') as f:\n",
    "        json.dump(geojson_data, f, indent=2)\n",
    "\n",
    "# Example with the moodie cemetery data; notice that we start and finish with the { } this time, no ( ):\n",
    "geojson_data = {\n",
    "    \"type\": \"FeatureCollection\",\n",
    "    \"features\": [\n",
    "        {\n",
    "            \"type\": \"Feature\",\n",
    "            \"properties\": {},\n",
    "            \"geometry\": {\n",
    "                \"coordinates\": [\n",
    "                    [\n",
    "                        -75.70108877353687,\n",
    "                        45.270952398050866\n",
    "                    ],\n",
    "                    [\n",
    "                        -75.70083354884687,\n",
    "                        45.270964439321716\n",
    "                    ],\n",
    "                    [\n",
    "                        -75.7008306971743,\n",
    "                        45.27087513316795\n",
    "                    ],\n",
    "                    [\n",
    "                        -75.70091624734968,\n",
    "                        45.27080087850615\n",
    "                    ],\n",
    "                    [\n",
    "                        -75.7011016060629,\n",
    "                        45.27080087850615\n",
    "                    ],\n",
    "                    [\n",
    "                        -75.70108592186428,\n",
    "                        45.27095139461147\n",
    "                    ]\n",
    "                ],\n",
    "                \"type\": \"LineString\"\n",
    "            }\n",
    "        },\n",
    "        {\n",
    "            \"type\": \"Feature\",\n",
    "            \"properties\": {\n",
    "                \"id\": \"mfc1\"\n",
    "            },\n",
    "            \"geometry\": {\n",
    "                \"coordinates\": [\n",
    "                    -75.70093319015801,\n",
    "                    45.27091346414116\n",
    "                ],\n",
    "                \"type\": \"Point\"\n",
    "            },\n",
    "            \"id\": 1\n",
    "        }\n",
    "    ]\n",
    "}\n",
    "\n",
    "# Write to file\n",
    "write_geojson_to_file(geojson_data, \"my-map.geojson\")"
   ]
  }
 ],
 "metadata": {
  "kernelspec": {
   "display_name": "Python 3 (ipykernel)",
   "language": "python",
   "name": "python3"
  },
  "language_info": {
   "codemirror_mode": {
    "name": "ipython",
    "version": 3
   },
   "file_extension": ".py",
   "mimetype": "text/x-python",
   "name": "python",
   "nbconvert_exporter": "python",
   "pygments_lexer": "ipython3",
   "version": "3.12.5"
  }
 },
 "nbformat": 4,
 "nbformat_minor": 5
}
