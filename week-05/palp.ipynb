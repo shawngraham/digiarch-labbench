{
 "cells": [
  {
   "cell_type": "markdown",
   "id": "b7d96720-7be0-480e-9094-6601f2e7df45",
   "metadata": {},
   "source": [
    "# Linked Open Data Doesn't Have To Use SPARQL\n",
    "\n",
    "The [Pompeii Artistic Landscapes Project](https://palp.art/start) tries to describe all of the art that once hung on or was once part of the walls of Pompeii. It uses the idea of the 'triple' to describe the concepts, their interrelationships, and their locations:\n",
    "\n",
    "> The Pompeii Artistic Landscape Project (PALP) is an online resource that supports site-wide discovery, mapping, analysis, and sharing of information about Pompeian artworks in their architectural and urban contexts. The goal of PALP is to dramatically increase the number of researchers and members of the public who can access, analyze, interpret, and share the artworks of the most richly documented urban environment of the Roman world: Pompeii.\n",
    "\n",
    "The data is available through a variety of means (check out [p-lod](https://p-lod.org/)) but one way is through a python-powered application programming interface. You can think of this as a kind of alternative to the SPARQL approach we tried in [[sparql-and-lod.ipynb]].\n",
    "\n",
    "So let's give it a quick whirl, shall we? "
   ]
  },
  {
   "cell_type": "code",
   "execution_count": null,
   "id": "339ea6e0-bc08-4f9d-bbfb-00d58f9c4291",
   "metadata": {},
   "outputs": [],
   "source": [
    "!pip install git+https://github.com/p-lod/plodlib"
   ]
  },
  {
   "cell_type": "code",
   "execution_count": null,
   "id": "0040b031-d47b-4471-beba-7a4de0004824",
   "metadata": {},
   "outputs": [],
   "source": [
    "import pandas as pd\n",
    "import plodlib\n",
    "\n",
    "search_term = \"spear\"\n",
    "\n",
    "result = plodlib.PLODResource(search_term)\n",
    "      \n",
    "    # Get images\n",
    "images = result.gather_images()\n",
    "print(f\"Found {len(images)} images for {search_term}\")\n",
    "images_df = pd.DataFrame(images)\n",
    "\n",
    "\n",
    "    # Get geojson if available\n",
    "geojson = result.geojson\n",
    "\n"
   ]
  },
  {
   "cell_type": "code",
   "execution_count": null,
   "id": "8f346a77-80a0-420c-9d4a-83ccafbc6071",
   "metadata": {},
   "outputs": [],
   "source": [
    "import json\n",
    "\n",
    "def write_geojson_to_file(geojson_data, filename):\n",
    "    \"\"\"\n",
    "    Write GeoJSON data to a file.\n",
    "    \n",
    "    Args:\n",
    "        geojson_data (dict): The GeoJSON data structure\n",
    "        filename (str): Output filename (should end with .geojson or .json)\n",
    "    \"\"\"\n",
    "    with open(filename, 'w') as f:\n",
    "        json.dump(geojson_data, f, indent=2)\n",
    "\n",
    "write_geojson_to_file(geojson, search_term + \".geojson\") \n",
    "\n",
    "# now double click on the geojson file!"
   ]
  },
  {
   "cell_type": "code",
   "execution_count": null,
   "id": "c31bc30b-313b-4324-aef7-41d1e31b8ade",
   "metadata": {},
   "outputs": [],
   "source": [
    "images_df"
   ]
  },
  {
   "cell_type": "markdown",
   "id": "bf80ed2e-ae0c-45fd-9b37-c3bf070bb802",
   "metadata": {},
   "source": [
    "Ok, so we can get the art and its descriptors, and we can get a map very easily showing where in Pompeii these items were displayed. \n",
    "\n",
    "The code below defines a list of identifiers that we can look for. 'r1' means 'regio 1'; 'r1-i1' means regio 1 insula 1; r1-i9-p1 means regio 1 insula 9 door (porta) 1. The system for identifying locations at Pompeii can get you right down to an individual room!"
   ]
  },
  {
   "cell_type": "code",
   "execution_count": null,
   "id": "ae34bacd-5090-4b19-bc3f-2afc5b003c45",
   "metadata": {},
   "outputs": [],
   "source": [
    "import plodlib\n",
    "\n",
    "r_list = ['pompeii','r1','r1-i1','r1-i9-p1','bird','dog','ariadne','bogus_id_bogus']\n",
    "\n",
    "# run through instantiating ids and printing standard info\n",
    "for r in r_list: # that is, for each item in the list. r = item here.\n",
    "\tc = plodlib.PLODResource(r) # we define a call to the plod datastore for that item, as 'c'. Then in the print statements, we can call elements from that result by appending them to 'c'.\n",
    "\tprint(f'''*Made instance of PLODResource for \"{r}\" now reading from returned object\n",
    "  Identifier: {c.identifier} (as passed: {c._identifier_parameter}) \n",
    "  Type: {c.rdf_type}\n",
    "  Label: {c.label}\n",
    "  P-in-P URL: {c.p_in_p_url}\n",
    "  Wikidata URL: {c.wikidata_url}\n",
    "\n",
    "\t\t''')"
   ]
  },
  {
   "cell_type": "markdown",
   "id": "f2da455b-3a3f-4abf-9492-819c617ee8db",
   "metadata": {},
   "source": [
    "Notice that the P-LOD datastore is using wikidata for entity authorities, and the site Pompeii in Pictures for some of the geographic data.\n",
    "\n",
    "Anyway, that's all for today. Do check out [https://p-lod.org/](https://p-lod.org/) and [palp](https://palp.art/start)."
   ]
  }
 ],
 "metadata": {
  "kernelspec": {
   "display_name": "Python 3 (ipykernel)",
   "language": "python",
   "name": "python3"
  },
  "language_info": {
   "codemirror_mode": {
    "name": "ipython",
    "version": 3
   },
   "file_extension": ".py",
   "mimetype": "text/x-python",
   "name": "python",
   "nbconvert_exporter": "python",
   "pygments_lexer": "ipython3",
   "version": "3.12.5"
  }
 },
 "nbformat": 4,
 "nbformat_minor": 5
}
