{
 "cells": [
  {
   "cell_type": "markdown",
   "id": "530848b7-0222-465f-892f-7264df9b078f",
   "metadata": {},
   "source": [
    "## Some Preliminaries\n",
    "\n",
    "For the purposes of this exploration of sql, 'structured query language', I have already obtained data about Roman Amphitheatres from archaeologist Sebastian Heath. Heath made his data availabe as a csv file which he put online via Github. I used a command called 'curl' to obtain it:\n",
    "\n",
    "```bash\n",
    "!curl https://raw.githubusercontent.com/sfsheath/roman-amphitheaters/master/roman-amphitheaters.csv > amphi.csv\n",
    "```\n",
    "'curl' grabs the information at a web url; the `>` tells it to save everything it finds as `amphi.csv`\n",
    "\n",
    "I also retrieved information about Roman aqueducts from the [Atlas Project of Roman Aquedcuts](https://romaq.org/the-project/aqueducts.html) and formatted it as a csv with some regular expressions work.\n",
    "\n",
    "Honestly, half the battle in digital archaeology is getting the data in a format where you can _do_ something.\n",
    "\n",
    "Fortunately, those two files are already present for you. Double click on them in the file tray, have a look, then come back here."
   ]
  },
  {
   "cell_type": "markdown",
   "id": "983a8e6c-b97f-490f-b7bb-a719874cedb9",
   "metadata": {},
   "source": [
    "### Get sqlitebiter\n",
    "We are going to combine those two files into a new sqlite database where each file is its own unique table.\n",
    "\n",
    "'sql' stands for 'structured query language' and is a powerful way to create, access, and manage large sql-powered databases. 'sqlite' is a lite version of that larger featureset. '[sqlitebiter](https://sqlitebiter.readthedocs.io/en/latest/)' is a utility that we'll use to set up our data as a .db file. "
   ]
  },
  {
   "cell_type": "code",
   "execution_count": null,
   "id": "a5baa0ee-f1aa-4503-9b9d-8985d376a87e",
   "metadata": {},
   "outputs": [],
   "source": [
    "## we'll install it to our working python environment\n",
    "!pip install sqlitebiter"
   ]
  },
  {
   "cell_type": "markdown",
   "id": "f192d7dc-79fb-424f-85ad-3c47a4c727db",
   "metadata": {},
   "source": [
    "### CSVs -> sqlite.db\n",
    "\n",
    "First we'll create a new database called `roman.db` from the two .csv files.\n",
    "\n",
    "Then we'll initialize it, make sure everything looks ok."
   ]
  },
  {
   "cell_type": "code",
   "execution_count": null,
   "id": "bf60cdfd-04b2-469d-8552-0dca69f07c95",
   "metadata": {},
   "outputs": [],
   "source": [
    "!sqlitebiter -o roman.db file \"amphi.csv\" \"aqua.csv\"\n",
    "!sqlite3 roman.db .schema .exit\n",
    "!sqlite3 roman.db .tables .exit"
   ]
  },
  {
   "cell_type": "markdown",
   "id": "450a2e96-926c-42c6-b14c-9be204653e49",
   "metadata": {},
   "source": [
    "If everything went according to plan, you should see some `[info]` lines that explain that the .csv files were converted into tables, and that you now have a database at `roman.db`. You will also see a bunch of sql commands like `CREATE TABLE IF NOT EXISTS` and these confirm that yup your materials were correctly made. The last command also confirms what `tables` exist in the database; you'll see \n",
    "\n",
    "`_source_info_  amphi          aqua ` \n",
    "\n",
    "if all went well. Notice also that `roman.db` is in your file tray now. If you double-click on that, you'll get an error because the workbench doesn't automatically know how to interpret .db files. For that, we write queries!"
   ]
  },
  {
   "cell_type": "markdown",
   "id": "0168d196-2f56-46de-b3c0-98bd5ad51db8",
   "metadata": {},
   "source": [
    "## Querying the Data\n",
    "\n",
    "The first thing we're going to do is create a python function that opens a connection to the database, and allows us to build queries. After we create the function, we can create query objects, and then `run_query`. "
   ]
  },
  {
   "cell_type": "code",
   "execution_count": null,
   "id": "c6c94c39-962b-4e2c-b4d4-e3cc05ff4b62",
   "metadata": {},
   "outputs": [],
   "source": [
    "# create a function for querying the database\n",
    "\n",
    "# first we get the python packages that help us with this work\n",
    "import sqlite3\n",
    "import pandas as pd #we're giving 'pandas' a knickname so we don't always have to type 'pandas'\n",
    "\n",
    "# we create a variable called 'db' and we use the 'sqlite' package's 'connect' function to read 'roman.db'\n",
    "db = sqlite3.connect('roman.db') # this 'opens' a connection to the database. Eventually, we will close the connection.\n",
    "\n",
    "# now we define a function called 'run query'\n",
    "# that will let us write our questions using SQL syntax - the query - and then the function\n",
    "# will implement it.\n",
    "def run_query(query):\n",
    "    return pd.read_sql_query(query,db)"
   ]
  },
  {
   "cell_type": "markdown",
   "id": "c6276222-6e80-493d-ac34-449acdfeccab",
   "metadata": {},
   "source": [
    "Let's give it a try. We're going to build a query that asks, 'show us every column in the amphi table, but only for the first five rows.' The SQL for this:\n",
    "\n",
    "```SELECT *``` = select everything\n",
    "\n",
    "```FROM amphi``` = from the amphi table (which originally was amphi.csv, remember)\n",
    "\n",
    "```LIMIT 5``` = the first five rows."
   ]
  },
  {
   "cell_type": "code",
   "execution_count": null,
   "id": "97e2ab6e-30ea-4da5-ae0e-17c398145a2c",
   "metadata": {},
   "outputs": [],
   "source": [
    "query1 = 'SELECT * FROM amphi LIMIT 5;'\n",
    "run_query(query1)"
   ]
  },
  {
   "cell_type": "markdown",
   "id": "3e1fedc7-0527-49f0-be7e-e7d96124904c",
   "metadata": {},
   "source": [
    "Notice, by the way, that the _first_ row starts with 0! Computers, eh? Indices start with row 0. Just one of those things.\n",
    "\n",
    "Now: do the same thing again, but from the aqueducts table."
   ]
  },
  {
   "cell_type": "code",
   "execution_count": null,
   "id": "bc3e2ed0-fdb0-4f09-a067-b8b2aac1f175",
   "metadata": {},
   "outputs": [],
   "source": [
    "## hint - copy the code from the previous code cell. Which little bit do you need to change?\n"
   ]
  },
  {
   "cell_type": "markdown",
   "id": "961a7c9e-fc84-4f82-bd3c-c9d463f4bd73",
   "metadata": {},
   "source": [
    "### Basic Query Commands\n",
    "SELECT, LIMIT, ORDER BY : using these, we can ask, 'Which amphitheatre is at the highest elevation?'\n",
    "\n",
    "Use SELECT to retrieve the id and elevation columns FROM the amphi table\n",
    "\n",
    "Use ORDER BY to sort the elevation column and use the DESC keyword to specify that you want to sort in descending order\n",
    "\n",
    "Use LIMIT to restrict the output to 1 row"
   ]
  },
  {
   "cell_type": "code",
   "execution_count": null,
   "id": "5cf7fe88-32de-4ae1-92d9-717eeecedd62",
   "metadata": {},
   "outputs": [],
   "source": [
    "query2 = '''\n",
    "SELECT id, elevation \n",
    "FROM amphi\n",
    "ORDER BY elevation DESC\n",
    "LIMIT 1;\n",
    "'''\n",
    "\n",
    "run_query(query2)\n",
    "\n",
    "## before you run this: what do you expect you'll see/find out?"
   ]
  },
  {
   "cell_type": "code",
   "execution_count": null,
   "id": "809d1225-7d60-4ba8-84ee-88cd8165a743",
   "metadata": {},
   "outputs": [],
   "source": [
    "# Do the same thing again, but let's get the 10 amphitheatres at the highest elevation. \n",
    "# You only need to make one minimal change. Copy the code into this cell, make the change, and run it.\n",
    "\n"
   ]
  },
  {
   "cell_type": "markdown",
   "id": "6603f425-8443-4c2c-a436-981e93532b7a",
   "metadata": {},
   "source": [
    "### Querying with Conditions\n",
    "\n",
    "Now let's create a query that creates a subset of data using a logical operator. We need the 'WHERE' command. Our next query will look for amphitheatres that exist at an elevation greater than 500 metres above sea level."
   ]
  },
  {
   "cell_type": "code",
   "execution_count": null,
   "id": "cf6d8ed7-e514-473c-ab57-068a7e5e5792",
   "metadata": {},
   "outputs": [],
   "source": [
    "query3 = '''\n",
    "SELECT * \n",
    "FROM amphi\n",
    "WHERE elevation > 500;\n",
    "'''\n",
    "\n",
    "run_query(query3)"
   ]
  },
  {
   "cell_type": "markdown",
   "id": "c2f01178-ab16-4805-b247-6b08c2835817",
   "metadata": {},
   "source": [
    "Our condition can be string data (ie, text) too; in which case we put the string in quotation marks. Here, we'll filter by the chronological grouping 'Flavian', which is to say, amphitheatres built during the reign of the Flavian Emperors (Vespasian, Titus, and Domitian, so middle of the 1st century)."
   ]
  },
  {
   "cell_type": "code",
   "execution_count": null,
   "id": "b8427988-170f-4686-a3db-13807888af4f",
   "metadata": {},
   "outputs": [],
   "source": [
    "query4 = '''\n",
    "SELECT * \n",
    "FROM amphi\n",
    "WHERE chronogroup = \"flavian\";\n",
    "'''\n",
    "\n",
    "run_query(query4)"
   ]
  },
  {
   "cell_type": "code",
   "execution_count": null,
   "id": "0575a72c-1e38-4c52-8ed0-b591ebf18455",
   "metadata": {},
   "outputs": [],
   "source": [
    "## Can you write a query that pulls only the Flavian amphitheatres in France? \n",
    "## Hint: you'll need the AND command."
   ]
  },
  {
   "cell_type": "markdown",
   "id": "f6f9293a-b1a9-4fb3-ae08-3cbd2fa87b7d",
   "metadata": {},
   "source": [
    "### Adding some math\n",
    "\n",
    "How many such amphitheatres are there? This is where you'd use the COUNT command. Let's count up the number of amphitheatres from the second century. \n",
    "\n",
    "(By the way, this query will only give us one row of results, right? So when it runs, remember, it is showing us a table of results where there are two columns, the first without a header, and the second showing what we SELECTed. And one row of results will have an index of 0. You can ignore that.)\n"
   ]
  },
  {
   "cell_type": "code",
   "execution_count": null,
   "id": "1ed04a29-cfea-4dce-b08d-7ec3434b3fe7",
   "metadata": {},
   "outputs": [],
   "source": [
    "query5 = '''\n",
    "SELECT COUNT(*)\n",
    "FROM amphi\n",
    "WHERE chronogroup = \"second-century\";\n",
    "'''\n",
    "\n",
    "run_query(query5)"
   ]
  },
  {
   "cell_type": "code",
   "execution_count": null,
   "id": "a5d772e5-ac8a-4196-a241-df5885e0f651",
   "metadata": {},
   "outputs": [],
   "source": [
    "# It might be nice to have our results show with a nice title, so:\n",
    "query = '''\n",
    "SELECT COUNT(*) AS \"Total Count of Second Century Amphitheatres in the DB\"\n",
    "FROM amphi\n",
    "WHERE chronogroup = \"second-century\";\n",
    "'''\n",
    "\n",
    "run_query(query)"
   ]
  },
  {
   "cell_type": "markdown",
   "id": "9c7cbc8f-daa8-4d8b-b805-3d1e6cb1b5a8",
   "metadata": {},
   "source": [
    "We can do more than count. We can sum (add); we can find the avg (mean); we can find the min (smallest) and max (largest) values with:\n",
    "\n",
    "SUM, AVG, MIN and MAX\n",
    "\n",
    "Given that, what was the average capacity (in terms of number of people who could sit in the amphitheatre)?\n"
   ]
  },
  {
   "cell_type": "code",
   "execution_count": null,
   "id": "f1e74a01-1c13-4e4d-b965-b2cb72d8f316",
   "metadata": {},
   "outputs": [],
   "source": [
    "query6 = '''\n",
    "SELECT AVG(capacity) AS \"Average Capacity\"\n",
    "FROM amphi;\n",
    "'''\n",
    "\n",
    "run_query(query6)"
   ]
  },
  {
   "cell_type": "code",
   "execution_count": null,
   "id": "07ab6128-7312-4276-9268-63919749140a",
   "metadata": {},
   "outputs": [],
   "source": [
    "\n",
    "# how long were amphitheatres?\n",
    "\n",
    "query7 = '''\n",
    "SELECT AVG(arenamajor) AS \"Average Length\"\n",
    "FROM amphi;\n",
    "'''\n",
    "\n",
    "run_query(query7)"
   ]
  },
  {
   "cell_type": "markdown",
   "id": "ecb9127b-cc4c-423c-95e4-6ceca69c681b",
   "metadata": {},
   "source": [
    "We can group rows by one value versus another to see how they compare. Is there a difference in average length of the long axis in Julio-Claudian versus Flavian amphitheatres?"
   ]
  },
  {
   "cell_type": "code",
   "execution_count": null,
   "id": "f4f6485f-e899-49d9-9dca-b296a218fc68",
   "metadata": {},
   "outputs": [],
   "source": [
    "query8 = '''\n",
    "SELECT chronogroup, AVG(arenamajor) AS \"Average Length\"\n",
    "FROM amphi\n",
    "GROUP BY chronogroup\n",
    "ORDER BY \"Average Length\" DESC;\n",
    "'''\n",
    "\n",
    "run_query(query8)"
   ]
  },
  {
   "cell_type": "markdown",
   "id": "c3fe8b7c-97d6-4fc0-afe7-063a668ac8a5",
   "metadata": {
    "jp-MarkdownHeadingCollapsed": true
   },
   "source": [
    "## Practice\n",
    "\n",
    "Examine the fields in the aqueduct data. Craft some queries that explore that data. What kinds of questions might you want to ask?"
   ]
  },
  {
   "cell_type": "code",
   "execution_count": null,
   "id": "e6de0e16-35bb-4690-9422-34955e7e2d4c",
   "metadata": {},
   "outputs": [],
   "source": [
    "# here, let me start you off...\n",
    "\n",
    "query10 = '''\n",
    "SELECT \n",
    "FROM aqua\n",
    "\n",
    "'''\n",
    "\n",
    "run_query(query10)"
   ]
  },
  {
   "cell_type": "markdown",
   "id": "e2719af7-c6bc-47a4-9b47-71f4d02acb66",
   "metadata": {},
   "source": [
    "## Joining Data\n",
    "Now let's tell the database how the two tables are joined together. In this case, we want to find places where both an amphitheatre and an aqueduct existed. Let's find out if Rome has any aqueducts and amphitheatres.\n",
    "\n",
    "Normally, when we join two tables, we want to perform the join on columns that are keyed together. In a sales database for instance there might be a table of `orders` and another for `shipping address`, and each one contains a `customer_id` column. In such a case, we use `=` to say:\n",
    "\n",
    "```\n",
    "FROM orders\n",
    "INNER JOIN shipping_address\n",
    "ON orders.customer_id = shipping_address.customer_id\n",
    "\n",
    "```\n",
    "Ie, 'show us orders where the customer id is the same in the orders table and the shipping address table'. In this way, our tables only ever contain one kind of information (and the relevant metadata that describes it), and we use queries to retrieve things we need (the shipping address for order #1234 which was made by customer #sg421 and whose address is ...).\n",
    "\n",
    "But archaeological data is rarely so straightforward. In our two tables here, we have to pattern match in order to make the two fields join up - there is no 'primary key' to help us know that a row in one table is talking about the same thing in another table.\n",
    "\n",
    "> This isn't ideal, but it's the data we've got.\n",
    "\n",
    "Instead of `=` we're going to use the LIKE command. LIKE uses two different kinds of wildcards, `%` and `_`.\n",
    "\n",
    "* % matches any sequence of zero or more characters\n",
    "* _ matches any single character.\n",
    "\n",
    "If we said, `LIKE 'Rom%'` we would find matches on Rome, Roman, Romania and so on. Placing the `%` on either side would find strings that *contain* Rom.\n",
    "\n",
    "In our specific case, we want to find records where both tables contain references to \"Rome\" - that is, where `aqua.alternative_name` contains \"Rome\" AND `amphi.title` also contains \"Rome\". This will show us places where both an aqueduct and an amphitheatre existed in the same location (Rome).\n",
    "\n",
    "To join our tables based on this shared location criterion, we do an 'inner join'. The syntax generally is:\n",
    "\n",
    "```\n",
    "SELECT relevant-columns                    # these will be the columns displayed in your result\n",
    "FROM tableA                               # the table to join\n",
    "INNER JOIN tableB                         # with this table\n",
    "ON condition1 AND condition2              # by these criteria\n",
    "```\n",
    "\n",
    "The query below finds records where both the `aqua.alternative_name` and `amphi.title` fields contain the string \"Rome\", effectively showing us the aqueducts and amphitheatres that existed in Rome.\n"
   ]
  },
  {
   "cell_type": "code",
   "execution_count": null,
   "id": "ae73c7c5-d793-4bdc-92b2-d24e4ca59396",
   "metadata": {},
   "outputs": [],
   "source": [
    "\n",
    "query11 = '''\n",
    "SELECT amphi.id, amphi.label, amphi.title, aqua.aqueduct_name, aqua.alternative_name\n",
    "FROM aqua \n",
    "INNER JOIN amphi\n",
    "ON LOWER(aqua.alternative_name) LIKE '%rome%' \n",
    "   AND LOWER(amphi.title) LIKE '%rome%';\n",
    "'''\n",
    "run_query(query11)\n",
    "\n",
    "\n"
   ]
  },
  {
   "cell_type": "code",
   "execution_count": null,
   "id": "cebb914d-1406-48b7-be03-b9755bbdc594",
   "metadata": {},
   "outputs": [],
   "source": [
    "# Take a look at the csv files, and see if you can repurpose the code for query11 for some other location. \n",
    "# Arles is nice this time of year I hear... but note which field that name appears in...\n",
    "\n",
    "query12 = '''\n",
    "\n",
    "'''"
   ]
  },
  {
   "cell_type": "markdown",
   "id": "cd38ad79-38bf-4fb8-84ac-5fff46fb78da",
   "metadata": {},
   "source": [
    "## Updating the database with new data?\n",
    "\n",
    "SQLITE has a wide variety of commands - you can search for these easily enough - but I thought it'd be useful to show you how to update a table with new data, or to remove data. Back at the beginning, we defined something called `db` and connected it to the database. If you look up tutorials about sqlite, they'll talk about the 'cursor object' and how it allows you to perform various database operations. For us, `db` is that cursor object. (For more on sqlite, [this seems handy](https://www.sqlitetutorial.net/)).\n",
    "\n",
    "To update the database tables, we just get that cursor object to insert a new row or delete it and so on."
   ]
  },
  {
   "cell_type": "code",
   "execution_count": null,
   "id": "d92c014e-a0a1-4f5a-88e9-fd6a45643ccc",
   "metadata": {},
   "outputs": [],
   "source": [
    "# Insert data into the table\n",
    "db.execute(\"INSERT INTO amphi (id, title, label) VALUES ('ForumNovumAmphitheatre', 'Amphitheatre at Forum Novum', 'Forum Novum')\")\n",
    "# the next command makes the change permanent:\n",
    "db.commit()\n",
    "\n",
    "# now let's take a look\n",
    "query13 = 'SELECT * FROM amphi;'\n",
    "run_query(query13)\n",
    "\n",
    "# scroll to the end and you'll see our new data about the amphitheatre at Forum Novum!"
   ]
  },
  {
   "cell_type": "code",
   "execution_count": null,
   "id": "84b1f285-2563-4c16-8155-e1eb5a5c34eb",
   "metadata": {},
   "outputs": [],
   "source": [
    "# Delete data from the table\n",
    "db.execute(\"DELETE FROM amphi where id = 'ForumNovumAmphitheatre'\")\n",
    "db.commit\n",
    "query14 = 'SELECT * FROM amphi;'\n",
    "run_query(query14)"
   ]
  },
  {
   "cell_type": "markdown",
   "id": "c14fad67-31e0-4236-90be-a397dcfdf778",
   "metadata": {},
   "source": [
    "There's a lot more to sql and sqlite than this. But this will get you started."
   ]
  },
  {
   "cell_type": "markdown",
   "id": "3610947b-471d-4b16-8f71-eeb223915b3c",
   "metadata": {},
   "source": [
    "# Visualizing The Results\n",
    "\n",
    "By putting our csv files of raw data into an sqlite database, we are able to run various queries. Because we are working in a Python environment, we can leverage various data visualization libraries to see our data.\n",
    "\n",
    "Let's say we're investigating a potential hypothesis about where the Romans would situate an amphitheatre. Maybe our idea is that the Romans really _appreciated_ panoramic views as part of their entertainment. Because panoramas tend to get better the higher you go, amphitheatres that _were_ higher were more popular, and so were built with greater capacity to handle the crowd. So we might begin to explore this idea by looking for any sort of relationship between elevation and capacity.\n",
    "\n",
    "...I'm not saying that Romans did this or that the logic is watertight; just that this is an idea that could be explored. (A more polished exploration would look for clustering, or viewsheds, etc, and the kinds of things we did when we were talking about spatial analysis).\n",
    "\n",
    "We query the database for the information; we double check the data types to make sure we've got _values_ instead of _strings (characters)_; we use some plotting packages to work with the information."
   ]
  },
  {
   "cell_type": "code",
   "execution_count": null,
   "id": "0b0f6d98-c533-4527-ac0f-98ab28434dc9",
   "metadata": {},
   "outputs": [],
   "source": [
    "import matplotlib.pyplot as plt\n",
    "# now we run a query; but unlike in the previous notebook, we'll put all of the SQL commands on a single line\n",
    "# the line below defines a dataframe, 'df', and uses the pandas command pd.read_sql_query to run a query on the database connection we defined above, db.\n",
    "query15 = \"\"\"\n",
    "SELECT id, elevation, capacity FROM amphi ORDER BY elevation DESC\n",
    "\"\"\"\n",
    "df = pd.read_sql_query(query15, db) # we use the 'read_sql_query' function in pandas, \n",
    "                        # telling it what the query is and what database to apply it to\n",
    "                        # and then instead of printing out the result, it turns it into a table of data\n",
    "            \n",
    "df # and this lets us check the result.\n"
   ]
  },
  {
   "cell_type": "markdown",
   "id": "b6dddf1f-280d-4ea0-bdb2-904c0c906a50",
   "metadata": {},
   "source": [
    "Do you see a problem under the 'capacity' column? Lots of empty cells. We have to tell Python how to deal with that. \n",
    "\n",
    "Pandas expects missing values to be coded NaN rather than just be empty cells. Otherwise we'll get errors. Also, if we're thinking numbers=something numeric, that's not always the case. So first we'll check, and then we'll fix.\n",
    "\n"
   ]
  },
  {
   "cell_type": "code",
   "execution_count": null,
   "id": "8d13e3c4-7d65-49ff-9ca7-6f1aabcac20f",
   "metadata": {},
   "outputs": [],
   "source": [
    "# We need to check to see whether or not our data is actually numeric\n",
    "# If there are no columns of a given type, then the result will just print empty [ ] \n",
    "print(\"String columns:\", df.select_dtypes(include=['object', 'string']).columns.tolist())\n",
    "print(\"Numeric columns:\", df.select_dtypes(include=['number']).columns.tolist())\n",
    "print(\"DateTime columns:\", df.select_dtypes(include=['datetime']).columns.tolist())"
   ]
  },
  {
   "cell_type": "markdown",
   "id": "f0a6efb9-dc56-4f95-885c-776b5b78622a",
   "metadata": {},
   "source": [
    "We can only plot those columns that are numeric. Right now, the data under 'capacity' might as well be a label, as far as python cares. That is to say, it just regards that information as strings of characters rather than values."
   ]
  },
  {
   "cell_type": "code",
   "execution_count": null,
   "id": "c648f63c-6927-4967-852d-6b64a61e323f",
   "metadata": {},
   "outputs": [],
   "source": [
    "# We covert the column to the numeric data type.\n",
    "df['capacity'] = df['capacity'].apply(pd.to_numeric, errors='coerce')"
   ]
  },
  {
   "cell_type": "code",
   "execution_count": null,
   "id": "1183b27c-6102-4538-8e88-977bcca1fd29",
   "metadata": {},
   "outputs": [],
   "source": [
    "# compare the results here with the first time we looked. What's different?\n",
    "# we can look inside a dataframe by giving the name of the dataframe (here, 'df') and the\n",
    "# index positions for the rows we want: row 1 to row 5. NB! rows 1 to 5 are index 0 to 4.\n",
    "# Computers, eh? Drives you nuts.\n",
    "\n",
    "df[0:5]"
   ]
  },
  {
   "cell_type": "code",
   "execution_count": null,
   "id": "b4d8498a-a610-44d9-84cd-dc01aa1d5045",
   "metadata": {},
   "outputs": [],
   "source": [
    "# Now we can begin to plot data.\n",
    "# to plot things with pandas, we also need a package called matplotlib\n",
    "%matplotlib inline\n",
    "import matplotlib.pyplot as plt\n",
    "\n",
    "\n",
    "\n",
    "# here's how we make a simple scatter plot\n",
    "# For this demo, we'll create two variables and give them a bunch of values:\n",
    "\n",
    "X = [590,540,740,130,810,300,320,230,470,620,770,250]\n",
    "Y = [32,36,39,52,61,72,77,75,68,57,48,48]\n",
    "\n",
    "# then we'll use the 'scatter' function from matplotlib.pylot via its alias, 'plt' to plot this data:\n",
    "plt.scatter(X,Y)\n",
    "plt.show()\n",
    "\n",
    "# you will be able to find lots of documentation online for the various kinds of things matplotlib can do."
   ]
  },
  {
   "cell_type": "code",
   "execution_count": null,
   "id": "feb0a84d-0a86-44a6-bd47-532ed78f2580",
   "metadata": {},
   "outputs": [],
   "source": [
    "# Now that you know the pattern, let's plot elevation against capacity. \n",
    "\n",
    "plt.scatter(df['elevation'], df['capacity']) #<- notice how we pass the elevation and capacity columns as x and y\n",
    "plt.show()"
   ]
  },
  {
   "cell_type": "code",
   "execution_count": null,
   "id": "5054237c-62d5-46b7-98d0-ab36336739b9",
   "metadata": {},
   "outputs": [],
   "source": [
    "# Let's make the plot pretty\n",
    "\n",
    "plt.scatter(df['elevation'], df['capacity'])\n",
    "#add title\n",
    "plt.title('Relationship Between Elevation and Capacity in Roman Amphitheatres')\n",
    "\n",
    "#add x and y labels\n",
    "plt.xlabel('Elevation')\n",
    "plt.ylabel('Capacity')\n"
   ]
  },
  {
   "cell_type": "code",
   "execution_count": null,
   "id": "e759b52a-b7e5-4e00-958f-fe0c030f2332",
   "metadata": {},
   "outputs": [],
   "source": [
    "# let's print the plot to raster and to vector image\n",
    "# solution courtesy https://stackoverflow.com/questions/9622163/save-plot-to-image-file-instead-of-displaying-it-using-matplotlib\n",
    "\n",
    "fig, ax = plt.subplots( nrows=1, ncols=1 )  # create figure & 1 axis\n",
    "ax.scatter(df['elevation'], df['capacity']) \n",
    "plt.title('Relationship Between Elevation and Capacity \\n in Roman Amphitheatres') # the \\n is an escape character that tells the machine to insert a newline\n",
    "plt.ylabel('Capacity')\n",
    "plt.xlabel('Elevation')\n",
    "fig.savefig('demo.png')   # save the figure to file for raster image\n",
    "fig.savefig('demo.pdf') # save the figure to file for vector image\n",
    "plt.close(fig)    # when you make a fig, the plt commands are all adding elements to it; you need to close the fig when you've finished.\n"
   ]
  },
  {
   "cell_type": "markdown",
   "id": "491fd6b1-9ec7-466d-b526-869152311e12",
   "metadata": {},
   "source": [
    "...and here's how you embed an image into a markdown document: ```![alt text description of the image](demo.png)```\n",
    "\n",
    "![](demo.png)"
   ]
  },
  {
   "cell_type": "code",
   "execution_count": null,
   "id": "f0408ba4-a022-4dde-8f43-2f153176506c",
   "metadata": {},
   "outputs": [],
   "source": [
    "## and when you're finished, you always should \n",
    "# close the connection to the database:\n",
    "db.close()"
   ]
  },
  {
   "cell_type": "markdown",
   "id": "30dbee6b-c33d-47f3-97b3-28a78f689a55",
   "metadata": {},
   "source": [
    "# Your Turn\n",
    "Now - go to the [[graveyard-data-as-database.ipynb]] and see what you can achieve with some graveyard data collected by students."
   ]
  }
 ],
 "metadata": {
  "kernelspec": {
   "display_name": "Python 3 (ipykernel)",
   "language": "python",
   "name": "python3"
  },
  "language_info": {
   "codemirror_mode": {
    "name": "ipython",
    "version": 3
   },
   "file_extension": ".py",
   "mimetype": "text/x-python",
   "name": "python",
   "nbconvert_exporter": "python",
   "pygments_lexer": "ipython3",
   "version": "3.12.5"
  }
 },
 "nbformat": 4,
 "nbformat_minor": 5
}
