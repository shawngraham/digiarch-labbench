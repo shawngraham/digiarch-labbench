{
 "cells": [
  {
   "cell_type": "markdown",
   "id": "de6adce5-c57b-4658-a7ca-35d58905853b",
   "metadata": {},
   "source": [
    "# simple statistics in R for archaeologists\n",
    "\n",
    "Now, Kevin Gratski has an excellent course on 'Digital Archaeology and Data Reuse', https://github.com/kgarstki/Introduction-Digital-Archaeology-Course and we are going to follow what he does with his class here:  https://github.com/kgarstki/ANTH-641_Stats-with-R\n",
    "\n",
    "This document is a remix of that one. Make sure to read all comments carefully."
   ]
  },
  {
   "cell_type": "code",
   "execution_count": null,
   "id": "80d26ca2-7072-4be8-96b1-148ecff63729",
   "metadata": {},
   "outputs": [],
   "source": [
    "# The \"archdata\" package was created by David L. Carlson and Georg Roth for\n",
    "# \"Quantitative Methods in Archaeology Using R\" by David L. Carlson (2017).\n",
    "\n",
    "install.packages(\"archdata\")\n",
    "install.packages(c(\"RcmdrMisc\"), type=\"binary\")\n",
    "\n",
    "# you'll get some warnings, but you can ignore them. This might take a few moments."
   ]
  },
  {
   "cell_type": "markdown",
   "id": "c3efea41-b64e-403d-a104-5f79700d7edb",
   "metadata": {},
   "source": [
    "Tip: you can go to [rdocumentation.org](https://www.rdocumentation.org/packages/archdata/versions/1.2-1) to see the information about all of the different archaeological datasets that have been packaged into 'archdata'. For instance, we're about to explore the 'DartPoints' dataset. Metadata about that dataset is directly behind [this link](https://www.rdocumentation.org/packages/archdata/versions/1.2-1/topics/DartPoints). Go have a look."
   ]
  },
  {
   "cell_type": "code",
   "execution_count": null,
   "id": "aa7481ca-9ec0-4f22-aa9d-e66a80f51c18",
   "metadata": {},
   "outputs": [],
   "source": [
    "# ok, tell R we want to use those two packages:\n",
    "library(archdata)\n",
    "library(RcmdrMisc)"
   ]
  },
  {
   "cell_type": "markdown",
   "id": "98974424-bb22-4d9f-8872-331a2507a70a",
   "metadata": {},
   "source": [
    "# 1. Initial exploration for numerical and categorical data\n",
    "\n",
    "Once you've collected data, you will want to explore the distribution of that data. We can look for the average values, or the most frequently occuring values (mean and median). We can look for how dispersed the data are around those central tendencies by looking for standard deviation or variance. Remember, we're trying to create some fragment of a past world from these observations; data don't tell a story, but they become something from which a story can be told.\n"
   ]
  },
  {
   "cell_type": "code",
   "execution_count": null,
   "id": "1c03c0b4-e7fe-4743-82b3-d29ddbc40793",
   "metadata": {},
   "outputs": [],
   "source": [
    "# Because the data is already packaged up for us in archdata, we can load it up with the 'data' command.\n",
    "# Most of the time though we'd have to write a small function to read the data in from a csv file.\n",
    "# Here we'll load up the 'DartPoints' dataframe:\n",
    "data(DartPoints)\n",
    "View(DartPoints) # notice that View starts with a capital V. Other commands don't. Annoying. Lower-case 'view' will give you an error.\n",
    "\n"
   ]
  },
  {
   "cell_type": "code",
   "execution_count": null,
   "id": "abaa7c4a-a8dd-4e42-a4c7-b421ffe0a932",
   "metadata": {},
   "outputs": [],
   "source": [
    "# Three ways of finding the average length of the dart points:\n",
    "mean(DartPoints$Length)\n",
    "mean(DartPoints[, 5])\n",
    "mean(DartPoints[,\"Length\"])\n",
    "# All three commands are equivalent. First, we tell R we want the mean, and then inside the brackets we\n",
    "# tell it WHAT we want mean to be calculated on. In the first example, we give the name of the dataframe\n",
    "# and then use the $ operator to specify which column by name. In the second, we give the name of the dataframe\n",
    "# and then indicate the position that we want: the 5th column. The third specifies position, but uses the name of the column.\n"
   ]
  },
  {
   "cell_type": "code",
   "execution_count": null,
   "id": "9a9d4470-4a68-4b5b-9d8c-f9acc0831fd9",
   "metadata": {},
   "outputs": [],
   "source": [
    "# You can calculate each descriptive statistic one at a time, or you can get R to give you:\n",
    "summary(DartPoints$Length)\n"
   ]
  },
  {
   "cell_type": "code",
   "execution_count": null,
   "id": "4190d817-0502-4ad2-8d7f-d5df59a11031",
   "metadata": {},
   "outputs": [],
   "source": [
    "# So let's indicate the number of significant digits we want (places after the decimal) and then\n",
    "# get R to give us a summary for *all* the columns, from the 5th position to the 11th:\n",
    "options(digits=3)\n",
    "numSummary(DartPoints[, 5:11])"
   ]
  },
  {
   "cell_type": "code",
   "execution_count": null,
   "id": "db5ac962-caf7-40c4-96d1-dd9cdbd9e500",
   "metadata": {},
   "outputs": [],
   "source": [
    "# What happens if you try to include columns 1 to 4?\n",
    "\n",
    "\n"
   ]
  },
  {
   "cell_type": "code",
   "execution_count": null,
   "id": "a517b13d-9a5c-47cf-ba5c-637596589a60",
   "metadata": {},
   "outputs": [],
   "source": [
    "# How many points are there for each type of point? The type is in the 'Name' column.\n",
    "# We make a new variable called DP_Type, and it gets the results of the command\n",
    "# table(DartPoints$Name).\n",
    "\n",
    "# The outer parentheses are a short cut to print the result of what goes inside DP_Type.\n",
    "(DP_Type <- table(DartPoints$Name))\n",
    "\n",
    "# We can work out the proportion each type has using prop.table on DP_Type, then multiplying by 100.\n",
    "prop.table(DP_Type)*100"
   ]
  },
  {
   "cell_type": "markdown",
   "id": "053901ef-a6d9-4108-8d33-8b5a42ef5024",
   "metadata": {},
   "source": [
    "## Initial exploration for categorical data\n",
    "\n",
    "In DartPoints, there's a lot of data about the kind of blade, and the shape of the blade. These are categories; something either is in one category, or another. So one thing we can do is see how they relate to each other by cross tabulation."
   ]
  },
  {
   "cell_type": "code",
   "execution_count": null,
   "id": "7d9cebb8-c695-44d7-b579-30360bdabb6e",
   "metadata": {},
   "outputs": [],
   "source": [
    "# Here, we create a new variable to contain the results of the xtabs command. You can almost read\n",
    "# the code like this: DP_CT gets the results of xtabs of Name versus Blade.Sh from DartPoints.\n",
    "\n",
    "(DP_CT <- xtabs(~Name+Blade.Sh, DartPoints))"
   ]
  },
  {
   "cell_type": "code",
   "execution_count": null,
   "id": "dd71b022-f437-4195-bc38-ca7847e8f43c",
   "metadata": {},
   "outputs": [],
   "source": [
    "# We can add up each row and column by using the addmargins command:\n",
    "addmargins(DP_CT)"
   ]
  },
  {
   "cell_type": "code",
   "execution_count": null,
   "id": "fc5cbd2f-5046-44ab-8313-b6b840da925b",
   "metadata": {},
   "outputs": [],
   "source": [
    "# The bottom right hand corner shows us how many records we've added: 89. But do we have all the data? Let's check\n",
    "# with the `dim` command (dimension):\n",
    "dim(DartPoints)"
   ]
  },
  {
   "cell_type": "code",
   "execution_count": null,
   "id": "0b455d28-3709-4c24-ab8e-3553fc468c79",
   "metadata": {},
   "outputs": [],
   "source": [
    "# that command tells us we've got 91 rows and 17 columns. So DP_CT is missing some data!\n",
    "# What gives? If you look at DartPoints:\n",
    "View(DartPoints)"
   ]
  },
  {
   "cell_type": "code",
   "execution_count": null,
   "id": "2effc1fe-ec3f-4c26-99b2-283b662fe826",
   "metadata": {},
   "outputs": [],
   "source": [
    "# you'll see we're missing cells of data. That might be the issue. So let's add the missing data\n",
    "# to our cross tabulation:\n",
    "\n",
    "addmargins(xtabs(~Name+addNA(Blade.Sh), DartPoints))"
   ]
  },
  {
   "cell_type": "markdown",
   "id": "e784f00c-f0ce-4761-8bf6-24d1c5b4d1e8",
   "metadata": {},
   "source": [
    "## YOUR TURN #1\n",
    "\n",
    "Add another dataframe from archdata, and explore the numerical and categorical data. Write down any patterns you see. Remember, you can go to [https://www.rdocumentation.org/packages/archdata/versions/1.2-1](https://www.rdocumentation.org/packages/archdata/versions/1.2-1) to see what other data is there, and then load it here by name with the `data(name-goes-here)` command\n"
   ]
  },
  {
   "cell_type": "code",
   "execution_count": null,
   "id": "98aaba7d-b45e-4af7-b6a2-0e8a4440296d",
   "metadata": {},
   "outputs": [],
   "source": [
    "# put your stuff in here"
   ]
  },
  {
   "cell_type": "markdown",
   "id": "68926f8a-216f-47d6-93f4-2412ab502271",
   "metadata": {},
   "source": [
    "# 2. Graphs\n",
    "Looking at data with Graphs - Often, graphs provide us with a good summary of data and can help illuminate patterns."
   ]
  },
  {
   "cell_type": "code",
   "execution_count": null,
   "id": "eee68f16-aa81-4283-a316-1c94bcf42fd0",
   "metadata": {},
   "outputs": [],
   "source": [
    "\n",
    "# We're going to look at two ways to visualize the number of coils present on La Tène fibulae\n",
    "# from the Iron Age cemetery of Münsingen near Berne, Switzerland. Bring the dataframe into your directory.\n",
    "data(Fibulae)\n",
    "View(Fibulae)"
   ]
  },
  {
   "cell_type": "code",
   "execution_count": null,
   "id": "e9fd8e0e-3231-4710-9175-383bf5fcb439",
   "metadata": {},
   "outputs": [],
   "source": [
    "# We're interested in the variable \"Coils\"\n",
    "(Fib_coils <- table(Fibulae$Coils))\n"
   ]
  },
  {
   "cell_type": "code",
   "execution_count": null,
   "id": "ca001fb2-fadb-4c80-9f8b-be6aadadce1e",
   "metadata": {},
   "outputs": [],
   "source": [
    "# First we'll make a pie chart of the number of coils. We'll include a main title and title our variable.\n",
    "pie(Fib_coils, main=\"La Tene Bronze Fibulae\", xlab=\"Number of Coils\", clockwise=TRUE)\n",
    "# Beautiful! "
   ]
  },
  {
   "cell_type": "code",
   "execution_count": null,
   "id": "8fe4d3b6-ec8a-4bcb-a0e4-6e9de5564282",
   "metadata": {},
   "outputs": [],
   "source": [
    "# Let's compare it to a barplot of the same data.\n",
    "barplot(Fib_coils, main=\"La Tene Bronze Fibulae\", xlab=\"Number of Coils\", ylab=\"Number of Fibulae\")\n",
    "# Which way to visualize the data is more helpful?"
   ]
  },
  {
   "cell_type": "code",
   "execution_count": null,
   "id": "dc7f9e24-71d4-4166-a81f-22eb90401c8f",
   "metadata": {},
   "outputs": [],
   "source": [
    "# We'll try one more graph, using more complex data. First bring the dataframe Pithouses into the directory.\n",
    "# This includes the desription of 45 Arctic Norway pithouses with 6 categorical variables.\n",
    "data(PitHouses)"
   ]
  },
  {
   "cell_type": "code",
   "execution_count": null,
   "id": "bb2ff95b-e8d2-477f-85dc-34a7d4edfb38",
   "metadata": {},
   "outputs": [],
   "source": [
    "# Then we'll create a cross-tabulation of Hearths with Size\n",
    "(PitHouses.tbl <- xtabs(~Hearths+Size, PitHouses))"
   ]
  },
  {
   "cell_type": "code",
   "execution_count": null,
   "id": "ecdf3d6a-e634-4e6c-a5aa-68d4a9a0f498",
   "metadata": {},
   "outputs": [],
   "source": [
    "\n",
    "# Then create a barplot of the crosstab. We'll include a legend that describes are different Hearths.\n",
    "# Remember to export the grab when you're done.\n",
    "barplot(PitHouses.tbl, ylab=\"Frequency\", main=\"Arctic Norway Pithouses\", beside=TRUE,legend.text=TRUE, args.legend=list(title=\"Hearths\"))\n"
   ]
  },
  {
   "cell_type": "markdown",
   "id": "0b0984d5-436f-4079-a3da-50fc776da9cd",
   "metadata": {},
   "source": [
    "## YOUR TURN #2. \n",
    "\n",
    "Find a new dataset from the archdata package. Use one of these two create a graph of the data. You can use a scatterplot (plot), a bargraph (barplot), pie chart (pie), or boxplot (boxplot). You can save this file, and then use the View -> Command Palette -> PKM: Show Notebook Cell Overview to find the id of the cell with your scatterplot so that you can embed it into a markdown file, like eg your weekly log for this week.\n"
   ]
  },
  {
   "cell_type": "code",
   "execution_count": null,
   "id": "ad0026df-a3f8-42da-adc0-f26e568e73e3",
   "metadata": {},
   "outputs": [],
   "source": [
    "# put your stuff in here"
   ]
  },
  {
   "cell_type": "markdown",
   "id": "2f92aa78-5414-45c9-91e9-7583b2edad03",
   "metadata": {},
   "source": [
    "# 3. Chi-squared test of association\n",
    "see also https://www.r-bloggers.com/chi-squared-test/\n",
    "\n",
    "Do two categories of data seem to 'go together'? And if they do, what might that mean? First we need a contingency table. This will allow us to say, is there an association between x and y?"
   ]
  },
  {
   "cell_type": "code",
   "execution_count": null,
   "id": "d7badd48-84f3-4516-8faa-e35475100e7b",
   "metadata": {},
   "outputs": [],
   "source": [
    "\n",
    "# Let's say we suspect there's something up with the form of the house and the depth of hearth.\n",
    "# So we make a new table with just that data:\n",
    "\n",
    "(table(PitHouses$Orient, PitHouses$Form))"
   ]
  },
  {
   "cell_type": "code",
   "execution_count": null,
   "id": "b794cb5a-1dec-419d-bca0-6f1a60117082",
   "metadata": {},
   "outputs": [],
   "source": [
    "# Looking at the numbers, it kinda looks like _something_ is going on?\n",
    "# But that's why we do the test.\n",
    "#\n",
    "# Chi-square measures the difference between what we observe in the\n",
    "# contingency table, and what we would expect, if the distribution\n",
    "# is normal.\n",
    "\n",
    "# Pearson's Chi-squared test is simple to perform.\n",
    "# The 'correct=FALSE' means, do we want to apply Yates' correction?\n",
    "# (see https://en.wikipedia.org/wiki/Chi-squared_test for an accessible explanation)\n",
    "#\n",
    "# For now, we don't.\n",
    "\n",
    "chisq.test(PitHouses$Orient, PitHouses$Form, correct=FALSE)"
   ]
  },
  {
   "cell_type": "code",
   "execution_count": null,
   "id": "509e81ed-f2b6-4f8c-982b-aa6d6c51b0ff",
   "metadata": {},
   "outputs": [],
   "source": [
    "# The X-squared value ('chi-squared', the greek letter X is pronounced with a kind of aspirated ch sound) \n",
    "# is very small, and the p-value is greater than\n",
    "# the 95% significance value (0.05) we reject the idea that there is an association.\n",
    "# (That is, we accept the null hypothesis).\n",
    "\n",
    "# Now, when we look at the table of values, we see that oval houses with the gabel\n",
    "# towards the coast only have 1 example. Chi-square is wonky if any of the values\n",
    "# in a 2x2 table are less than 5, so we can't really conclude anything here.\n",
    "\n",
    "# Let's see if there's an association between the number of hearths and the form of the house:\n",
    "\n",
    "table(PitHouses$Hearths, PitHouses$Form)\n"
   ]
  },
  {
   "cell_type": "code",
   "execution_count": null,
   "id": "f186e4dd-0f67-4afb-b0ce-9079e8b668c2",
   "metadata": {},
   "outputs": [],
   "source": [
    "# Pearson's Chi-squared test\n",
    "# What's the p value? If it's less than 0.05, then we can reject the null hypothesis.\n",
    "# (That is, there's an association). If it's greater than 0.05, we accept the null hypothesis.\n",
    "# (That is, there's no association).\n",
    "\n",
    "chisq.test(PitHouses$Hearths, PitHouses$Form, correct=FALSE)"
   ]
  },
  {
   "cell_type": "code",
   "execution_count": null,
   "id": "76e4dd5e-1dd8-4a45-9920-d8b73a457df4",
   "metadata": {},
   "outputs": [],
   "source": [
    "# Let's try it on a different dataset, the EWBurials.\n",
    "# Read up on the data by going to the documentation site, first\n",
    "# Load and view the data:\n",
    "data(\"EWBurials\")\n",
    "View(EWBurials)"
   ]
  },
  {
   "cell_type": "code",
   "execution_count": null,
   "id": "8f93945d-4f00-4442-a759-6417d41610e2",
   "metadata": {},
   "outputs": [],
   "source": [
    "# We might imagine that there's an association between burial goods and the different groups:\n",
    "table(EWBurials$Goods, EWBurials$Group)\n",
    "# Pearson's Chi-squared test\n",
    "chisq.test(EWBurials$Goods, EWBurials$Group, correct=FALSE)\n",
    "\n",
    "# What is the p value? Do you reject the null hypothesis?\n",
    "# What other associations might you imagine?"
   ]
  },
  {
   "cell_type": "markdown",
   "id": "cd223bdb-7c7f-40d7-8953-647e3c9219a2",
   "metadata": {},
   "source": [
    "## YOUR TURN #3\n",
    "\n",
    "Explore some of the other datasets. See if you can find some associations.\n"
   ]
  },
  {
   "cell_type": "code",
   "execution_count": null,
   "id": "3c4e009c-911a-4aab-bed6-b589df6f7f6c",
   "metadata": {},
   "outputs": [],
   "source": [
    "# put your stuff here"
   ]
  },
  {
   "cell_type": "markdown",
   "id": "25ba741e-50f6-4a0a-874d-9a107aa4b146",
   "metadata": {},
   "source": [
    "## YOUR TURN #4\n",
    "\n",
    "Load up some graveyard data from past students. See what you can accomplish.\n"
   ]
  },
  {
   "cell_type": "code",
   "execution_count": null,
   "id": "0994fae0-3a8c-43de-b9e0-1596af7d362e",
   "metadata": {},
   "outputs": [],
   "source": [
    "library(curl)\n",
    "\n",
    "graveyards <- read.csv( curl(\"https://raw.githubusercontent.com/shawngraham/hist3000/master/static/data/graveyards-data.csv\"), sep=\";\" )\n",
    "\n",
    "View(graveyards)\n",
    "\n",
    "# Now... explore. Remember to add interesting things to your log for the week!"
   ]
  }
 ],
 "metadata": {
  "kernelspec": {
   "display_name": "R",
   "language": "R",
   "name": "ir"
  },
  "language_info": {
   "codemirror_mode": "r",
   "file_extension": ".r",
   "mimetype": "text/x-r-source",
   "name": "R",
   "pygments_lexer": "r",
   "version": "4.2.1"
  }
 },
 "nbformat": 4,
 "nbformat_minor": 5
}
