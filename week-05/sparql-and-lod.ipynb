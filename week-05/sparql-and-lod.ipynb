{
 "cells": [
  {
   "cell_type": "markdown",
   "id": "46848e9b-c5eb-48ea-9b1e-f8f349d03247",
   "metadata": {},
   "source": [
    "## Preliminaries\n",
    "\n",
    "We have to get some packages. Then we can move on."
   ]
  },
  {
   "cell_type": "code",
   "execution_count": null,
   "id": "d912b21c-6c56-4494-a7c7-1ddb65d9127b",
   "metadata": {},
   "outputs": [],
   "source": [
    "# in a python powered notebook, the python kernel knows what to do with !curl. \n",
    "# but in this R powered notebook, it does not. So instead, we define the \n",
    "# url we want to download, and the name of the file we'll give it once it has downloaded\n",
    "# and THEN we can download the file and pass the target and destination as parameters:\n",
    "\n",
    "url <- \"https://cran.r-project.org/src/contrib/Archive/SPARQL/SPARQL_1.16.tar.gz\"\n",
    "destination_file <- \"SPARQL.tar.gaz\"\n",
    "download.file(url, destination_file) "
   ]
  },
  {
   "cell_type": "code",
   "execution_count": null,
   "id": "a20da7bd-355e-4175-a225-717456f5c619",
   "metadata": {
    "scrolled": true
   },
   "outputs": [],
   "source": [
    "options(warn = -1)  # Suppress all warnings\n",
    "install.packages(\"SPARQL.tar.gaz\", repos = NULL, type=\"source\")\n",
    "install.packages(\"ggplot2\")"
   ]
  },
  {
   "cell_type": "markdown",
   "id": "f551b118-72f5-4944-8087-0a3eb1fe7d0d",
   "metadata": {},
   "source": [
    "# SPARQL and LOD\n",
    "\n",
    "Part of the early dream of the worldwide web was that data could be described semantically, and so when website A discussed eg Roman coins, and website B also discussed Roman coins, it would be possible for the very links themselves to contain the metadata that would alert us to when we were talking about the same thing, or same kind of thing. What if you could write some code to retrieve all of the information, everywhere, about Roman coins minted under Augustus from a particular mint, no matter what academic or museum or commercial database held relevant information? This was/is the promise of linked open data, and the query language for exploring those linkages, SPARQL.\n",
    "\n",
    "When data is described using a 'Resource Description Framework', RDF, the resource - the 'thing'- is described via a series of relationships, rather than as rows in a table or keys having values.\n",
    "\n",
    "Information is in the relationships. It's a network. It's a graph. Thus, every 'thing' in this graph can have its own uniform resource identifier (URI) that lives as a location on the internet. Information can then be created by making statements that use these URIs, similarly to how English grammar creates meaning: subject verb object. Or, in RDF-speak, 'subject predicate object', also known as a triple. In this way, data in different places can be linked together by referencing the elements they have in common. This is Linked Open Data (LOD). The access point for interrogating LOD is called an 'endpoint'.\n",
    "\n",
    "Finally, SPARQL is an acronymn for SPARQL Protocol and RDF Query Language (yes, it's one of those kinds of acronyms).\n",
    "\n",
    "In this notebook, we're using R to interact with and query an endpoint providing access to numismatic evidence from the Roman world, and manipulate linked open data, but for the sake of learning a bit of what one can do with SPARQL, this notebook keeps all of that ancillary code tucked away. The [followup notebook](Using R to Retrieve and Visualize Data from SPARQL.ipynb) to this one shows you how to use R to do some basic manipulations of the query results.\n",
    "\n",
    "[Matthew Lincoln once wrote an excellent tutorial at the Programming Historian about SPARQL and LOD](https://programminghistorian.org/en/lessons/retired/graph-databases-and-SPARQL) but that tutorial depended on an endpoint maintained by the British Museum. The museum no longer maintains that endpoint, rendering Lincoln's tutorial obsolete in terms of its examples. But it _is_ an excellent intro to the key ideas, parts of which I am reproducing below.\n",
    "\n",
    "Let's look at his example, which concerns the painting, 'The Nightwatch'.\n",
    "\n",
    "```rdf\n",
    "<The Nightwatch> <was created by> <Rembrandt van Rijn> .\n",
    "```\n",
    "\n",
    "This statement has three elements:\n",
    "\n",
    "```\n",
    "    the subject: <The Nightwatch>\n",
    "    the predicate: <was created by>\n",
    "    the object: <Rembrandt van Rijn>\n",
    "```\n",
    "\n",
    "Lincoln combines these, and other such statements, into a (pseudo-)RDF database like so:\n",
    "\n",
    "```\n",
    "<The Nightwatch> <was created by> <Rembrandt van Rijn> .\n",
    "<The Nightwatch> <was created in> <1642> .\n",
    "<The Nightwatch> <has medium> <oil on canvas> .\n",
    "<Rembrandt van Rijn> <was born in> <1606> .\n",
    "<Rembrandt van Rijn> <has nationality> <Dutch> .\n",
    "<Johannes Vermeer> <has nationality> <Dutch> .\n",
    "<Woman with a Balance> <was created by> <Johannes Vermeer> .\n",
    "<Woman with a Balance> <has medium> <oil on canvas> .\n",
    "```\n",
    "\n",
    "Such RDF databases are describing nodes and links, and so we can visualize as a graph like so:\n",
    "\n",
    "![](https://camo.githubusercontent.com/6c12a0f4f4c91fd87c787e790037151c2c3024849472e4740673d321370e073c/68747470733a2f2f70726f6772616d6d696e67686973746f7269616e2e6f72672f696d616765732f67726170682d6461746162617365732d616e642d53504152514c2f73706172716c30312e737667)\n",
    "\n",
    "This is rather different than the tables and their intersections that we've discussed and read about so far this week! You can see that _adding_ information to this database is as simple (relatively) as adding a new relationship to the graph. This is one of the reasons why graph databases have become more popular in recent years, especially with the evolution of the web and social media.\n",
    "\n",
    "Lincoln suggests that we think of SPARQL queries as a kind of 'mad lib', where there is a structure and we just fill in the blanks. We specify what kind of data we want in those blanks, and the query traverses the graph looking for data that correctly fills it in. Sticking with art history, he shows us this:\n",
    "\n",
    "```\n",
    "SELECT ?painting\n",
    "WHERE {\n",
    "  ?painting <has medium> <oil on canvas> .\n",
    "}\n",
    "```\n",
    "\n",
    "The query goes off and looks for every painting that was made with oil on canvas. Visually, it looks a bit like this:\n",
    "\n",
    "![](https://programminghistorian.org/images/graph-databases-and-SPARQL/sparql02.svg)\n",
    "\n",
    "and we'd end up with a table with a column called 'painting' and the titles of each painting listed.\n",
    "\n",
    "But there is a difference between the pseudo-RDF that Lincoln shows us, and what actual RDF might look like:\n",
    "\n",
    "```\n",
    "<http://data.rijksmuseum.nl/item/8909812347> <http://purl.org/dc/terms/creator>  <http://dbpedia.org/resource/Rembrandt>\n",
    "```\n",
    "\n",
    "The human-readable version requires more statements:\n",
    "```\n",
    "<http://data.rijksmuseum.nl/item/8909812347> <http://purl.org/dc/terms/title> \"The Nightwatch\" .\n",
    "\n",
    "<http://purl.org/dc/terms/creator> <http://www.w3.org/1999/02/22-rdf-syntax-ns#label> \"was created by\" .\n",
    "\n",
    "<http://dbpedia.org/resource/Rembrandt> <http://xmlns.com/foaf/0.1/name> \"Rembrandt van Rijn\" .\n",
    "```\n",
    "\n",
    "In the examples below, we're going to draw on the [Nomisma.org](https://nomisma.org) project which created and maintains an **ontology** or formalized descriptive framework for working with archaeological numismatic materials.\n",
    "\n",
    "Lincoln suggests that when we first encountered a new RDF graph, that we explore the network of relationships from an example object to understand what is going on in the database, to see what is available for querying. In the query below, p and o stand for 'predicate' and 'object'. This could give you the necessary information to construct more complicated queries.\n"
   ]
  },
  {
   "cell_type": "code",
   "execution_count": null,
   "id": "2095a77e-2658-40ff-89ff-4bdff526354b",
   "metadata": {},
   "outputs": [],
   "source": [
    "library(SPARQL)\n",
    "library(ggplot2)\n",
    "\n",
    "endpoint <- \"http://nomisma.org/query\"\n",
    "\n",
    "# since this cell just defines the packages we're going to use and the variable 'endpoint' \n",
    "# that tells SPARQL where to send our query, when you run this block nothing much\n",
    "# will seem to happen - the [ ] will change to [*] and then [3] (if this is were the third block you ran)."
   ]
  },
  {
   "cell_type": "code",
   "execution_count": null,
   "id": "cebe2820-efda-4e6d-bd54-82a6f6fc91a3",
   "metadata": {},
   "outputs": [],
   "source": [
    "# All those 'prefix' statements? Those tell sparql where to find the authoritative source\n",
    "# for things we might be after. You can copy those URLS into a browser to find out more \n",
    "# about what they describe. In a subsequent code block we touch lightly on an example.\n",
    "\n",
    "query <- \"PREFIX crm:  <http://www.cidoc-crm.org/cidoc-crm/>\n",
    "PREFIX dcterms:  <http://purl.org/dc/terms/>\n",
    "PREFIX dcmitype:  <http://purl.org/dc/dcmitype/>\n",
    "PREFIX foaf:  <http://xmlns.com/foaf/0.1/>\n",
    "PREFIX geo:  <http://www.w3.org/2003/01/geo/wgs84_pos#>\n",
    "PREFIX nm:  <http://nomisma.org/id/>\n",
    "PREFIX nmo:  <http://nomisma.org/ontology#>\n",
    "PREFIX org:  <http://www.w3.org/ns/org#>\n",
    "PREFIX rdf:  <http://www.w3.org/1999/02/22-rdf-syntax-ns#>\n",
    "PREFIX rdfs:  <http://www.w3.org/2000/01/rdf-schema#>\n",
    "PREFIX skos:  <http://www.w3.org/2004/02/skos/core#>\n",
    "PREFIX xsd:  <http://www.w3.org/2001/XMLSchema#>\n",
    "\n",
    "SELECT * WHERE {\n",
    "  ?s ?p ?o\n",
    "} LIMIT 100\n",
    "\"\n",
    "qd <- SPARQL(endpoint,query)\n",
    "qd"
   ]
  },
  {
   "cell_type": "markdown",
   "id": "b4cfcf53-661f-48f4-835a-790129057e49",
   "metadata": {},
   "source": [
    "## Simple Queries\n",
    "\n",
    "That's a lot of information to throw at a person, but it just goes to show that there's a lot of work that goes into representing data this way, and a lot of potential research that could be built on top of it! The work of data infrastructure is scholarly work and just as important as other forms of scholarly output.\n",
    "\n",
    "But let's start with a simple exploration: can we get information about a single coin?"
   ]
  },
  {
   "cell_type": "code",
   "execution_count": null,
   "id": "8c03c224-ad1b-44c6-bc92-af88d613db98",
   "metadata": {},
   "outputs": [],
   "source": [
    "# Simple query to get one coin type\n",
    "query <- \"\n",
    "PREFIX nmo: <http://nomisma.org/ontology#>\n",
    "SELECT ?coin WHERE {\n",
    "  ?coin a nmo:TypeSeriesItem .\n",
    "} ORDER BY LIMIT 1\n",
    "\"\n",
    "qd <- SPARQL(endpoint,query)\n",
    "qd"
   ]
  },
  {
   "cell_type": "markdown",
   "id": "5b5532c1-21fc-4a4c-907b-8274be25cc01",
   "metadata": {},
   "source": [
    "Note if you rerun the block above, you'll always get the same result, because of the way the index at Nomisma (or any similar database)  is built. So to get something random each time, you'd run this modified code where you specify to return materials ORDERed BY RANDom:\n",
    "```\n",
    "query <- \"\n",
    "PREFIX nmo: <http://nomisma.org/ontology#>\n",
    "SELECT ?coin WHERE {\n",
    "  ?coin a nmo:TypeSeriesItem .\n",
    "} \n",
    "ORDER BY RAND()\n",
    "LIMIT 1\n",
    "\"\n",
    "```\n",
    "\n",
    "Do that in the empty code block below. Remember you have to run the query with SPARQL. Notice that each time you do it, the query is passing over all of the linked data sources that it knows about. Sometimes you'll find a coin at the Fitzwilliam Museum in Cambridge. Sometimes you'll find one from somewhere else. \n",
    "\n",
    "This illustrates one of the potential attractions of organizing and publishing data in known linked open datastores, especially for archaeology. So much material is squirreled away and it's quite possible if we actually _knew_ what we had and where it all was, it'd transform our understanding.\n"
   ]
  },
  {
   "cell_type": "code",
   "execution_count": null,
   "id": "9efcc418-65fc-4349-b125-18d6e8064694",
   "metadata": {},
   "outputs": [],
   "source": []
  },
  {
   "cell_type": "markdown",
   "id": "6e03b982-8fb6-4dd8-98fc-659a4ce386d6",
   "metadata": {},
   "source": [
    "## Graphing Some Data\n",
    "\n",
    "This is only a very short introduction to SPARQL and what might be accomplished with it (but if you're interested, here's a good [tutorial for more depth](https://jena.apache.org/tutorials/sparql.html)). We'll finish off by grabbing some data and then trying to graph it, to see if there is anything interesting in the patterns we might spot."
   ]
  },
  {
   "cell_type": "code",
   "execution_count": null,
   "id": "cf069211-cb38-400d-b165-692ce458cbe7",
   "metadata": {},
   "outputs": [],
   "source": [
    "# these examples are coming from Nomisma itself \n",
    "# https://www.nomisma.org/documentation/sparql/\n",
    "# All those 'prefix' statements? Those tell sparql where to find the authoritative source\n",
    "# for things we might be after. For instance, 'dcterms', if you followed that url, goes to\n",
    "# the DublinCore metadata scheme, and you could look up what 'dcterms:source' precisely defines: eg,\n",
    "# https://www.dublincore.org/specifications/dublin-core/dcmi-terms/elements11/source/ \n",
    "# Notice 'nm:ric'? That is saying, 'the authoritative source for this information is RIC, Roman Imperial Coinage,\n",
    "# https://nomisma.org/id/ric \n",
    "\n",
    "# so... just looking at this query, what do you think it's going to show you?\n",
    "\n",
    "# create query statement\n",
    "query <-\n",
    "\"PREFIX rdf:\t\t<http://www.w3.org/1999/02/22-rdf-syntax-ns#>\n",
    "PREFIX dcterms:\t\t<http://purl.org/dc/terms/>\n",
    "PREFIX nm:\t\t<http://nomisma.org/id/>\n",
    "PREFIX nmo:\t\t<http://nomisma.org/ontology#>\n",
    "SELECT ?type ?weight WHERE {\n",
    "  VALUES ?authority { nm:augustus nm:vespasian }\n",
    "  ?type nmo:hasAuthority ?authority ;\n",
    "    nmo:hasDenomination nm:denarius ;\n",
    "    dcterms:source nm:ric.\n",
    "  ?coin nmo:hasTypeSeriesItem ?type .\n",
    "  ?coin nmo:hasWeight ?weight\n",
    "}\n",
    "\"\n",
    "\n",
    "# Our GOAL: we're going to query nomisma using SPARQL and retrieve data from several locations\n",
    "# that we will then visualize."
   ]
  },
  {
   "cell_type": "code",
   "execution_count": null,
   "id": "fed6d3e8-e547-441e-aaff-440f98a294d7",
   "metadata": {},
   "outputs": [],
   "source": [
    "# We use SPARQL to submit the query, and then we write those results into a dataframe.\n",
    "# There's a lot of data, this might take a bit of time.\n",
    "qd <- SPARQL(endpoint,query)\n",
    "df <- qd$results\n"
   ]
  },
  {
   "cell_type": "code",
   "execution_count": null,
   "id": "635717ef-b904-4990-9518-926c8d7b4b15",
   "metadata": {},
   "outputs": [],
   "source": [
    "df <- qd$results\n",
    "\n",
    "# now lets look at the result.\n",
    "df"
   ]
  },
  {
   "cell_type": "markdown",
   "id": "e7ad9761-4a31-46ee-9edc-649da6203bdc",
   "metadata": {},
   "source": [
    "Every coin has its own unique identifier! But let's create a new column for 'authority' where we can parse that URI for the name of the Emperor under whom the coin was minted."
   ]
  },
  {
   "cell_type": "code",
   "execution_count": null,
   "id": "3d0bda08-6ee9-4e8e-8529-80d4ffed332c",
   "metadata": {},
   "outputs": [],
   "source": [
    "# Extract authority FIRST while type is still character\n",
    "df$authority <- case_when(\n",
    "  grepl(\"aug\", df$type, ignore.case = TRUE) ~ \"Augustus\",\n",
    "  grepl(\"ves\", df$type, ignore.case = TRUE) ~ \"Vespasian\",\n",
    "  TRUE ~ \"Other\"\n",
    ")\n",
    "\n",
    "# THEN convert only the weight column to numeric\n",
    "df$weight <- as.numeric(df$weight)\n",
    "\n",
    "# Check the results\n",
    "table(df$authority)\n",
    "str(df)"
   ]
  },
  {
   "cell_type": "markdown",
   "id": "de8d8ca8-71bc-43fa-9026-1acc9050cdfb",
   "metadata": {},
   "source": [
    "Great! Let's compare these coins by Emperor; such a comparison might tell us something about the Roman economy."
   ]
  },
  {
   "cell_type": "code",
   "execution_count": null,
   "id": "38be87c1-962a-40b3-930e-c41e6891904e",
   "metadata": {},
   "outputs": [],
   "source": [
    "library(ggplot2)\n",
    "\n",
    "# Create histogram with facets\n",
    "ggplot(df, aes(x = weight, fill = authority)) +\n",
    "  geom_histogram(bins = 20, alpha = 0.7, position = \"identity\") + # bins are the number of groups, by weight, we want\n",
    "  facet_wrap(~authority) +\n",
    "  labs(title = \"Distribution of Denarius Weights by Authority\",\n",
    "       subtitle = \"Coins from RIC\",\n",
    "       x = \"Weight (grams)\",\n",
    "       y = \"Count\") +\n",
    "  scale_fill_manual(values = c(\"Augustus\" = \"gold\", \"Vespasian\" = \"darkred\")) +\n",
    "  theme_minimal() +\n",
    "\n",
    "theme(legend.position = \"none\")  # Remove legend since facets show the grouping"
   ]
  },
  {
   "cell_type": "markdown",
   "id": "1c729cf5-cdc7-427c-9bfd-6e8667621f91",
   "metadata": {},
   "source": [
    "It might not be apparent at first glance, but you've got two subgraphs or 'facets' in that result.\n",
    "Try changing the number of 'bins' or weight categories. Sure looks like there's something different going on between the reign of Augustus and the reign of Vespasian, eh?\n",
    "\n",
    "Can you modify the query and the code to retrieve more data from other Emperors? Hint: you'll want to go back and start by modifying this line: ```VALUES ?authority { nm:augustus nm:vespasian }```"
   ]
  },
  {
   "cell_type": "code",
   "execution_count": null,
   "id": "500d5a33-6aa0-4568-bf7f-a9fa3d55aca0",
   "metadata": {},
   "outputs": [],
   "source": [
    "# There are some other sample queries at nomisma\n",
    "# https://www.nomisma.org/documentation/sparql/\n",
    "# Average Diameter of RIC Augustus 1A\n",
    "# This query finds all coins connected to the OCRE URI for Augustus 1A and averages their diameters.\n",
    "\n",
    "# I include it to show that you can do some math as part of the query language too.\n",
    "\n",
    "\n",
    "query2 =\"\n",
    "PREFIX rdf:\t\t<http://www.w3.org/1999/02/22-rdf-syntax-ns#>\n",
    "PREFIX dcterms:\t\t<http://purl.org/dc/terms/>\n",
    "PREFIX nm:\t\t<http://nomisma.org/id/>\n",
    "PREFIX nmo:\t\t<http://nomisma.org/ontology#>\n",
    "PREFIX xsd:\t\t<http://www.w3.org/2001/XMLSchema#>\n",
    "\n",
    "SELECT (AVG(xsd:decimal(?diameter)) AS ?average) WHERE {\n",
    "?object nmo:hasTypeSeriesItem <http://numismatics.org/ocre/id/ric.1(2).aug.1A> ;\n",
    "  nmo:hasDiameter ?diameter\n",
    "}\n",
    "\n",
    "\"\n",
    "\n",
    "qd2 <- SPARQL(endpoint,query2)\n",
    "df2 <- qd2$results\n"
   ]
  },
  {
   "cell_type": "code",
   "execution_count": null,
   "id": "b40133ab-6832-4a55-89d5-3a0ebd6c919d",
   "metadata": {},
   "outputs": [],
   "source": [
    "# Now let's see the results\n",
    "df2"
   ]
  }
 ],
 "metadata": {
  "kernelspec": {
   "display_name": "R",
   "language": "R",
   "name": "ir"
  },
  "language_info": {
   "codemirror_mode": "r",
   "file_extension": ".r",
   "mimetype": "text/x-r-source",
   "name": "R",
   "pygments_lexer": "r",
   "version": "4.2.1"
  }
 },
 "nbformat": 4,
 "nbformat_minor": 5
}
