{
 "cells": [
  {
   "cell_type": "markdown",
   "metadata": {},
   "source": [
    "## Graveyard Data\n",
    "\n",
    "As various bits of information come in via our data collection forms, I collate those materials together. An earlier version can be downloaded from our course website. \n",
    "\n",
    "The task here is not so much to _discover_ something, but to _explore_.\n",
    "\n",
    "1. Get the data.\n",
    "2. Double click on the file here in the workbench; this will open the csv viewer. Change the 'delimiter' - the character that separates the fields - to a semicolon (;).\n",
    "3. Write code that does the following:\n",
    "   a. turn the csv into 'graves.db'\n",
    "   b. devise, then run, some sql queries to explore the data\n",
    "   c. visualize an interesting pattern in the data\n",
    "\n",
    "You don't need to `pip install sqlitebiter` again, as that's already been installed. You _will_ need to `import` various packages. To get started, copy and paste code from the other notebook into code cells here and make minimal changes (file name, field names) so that you know that the code is working on your data. Then you can get ambitious!\n",
    "\n",
    "Insert markdown cells into which you can write your observations, questions, frustrations."
   ]
  },
  {
   "cell_type": "code",
   "execution_count": null,
   "metadata": {},
   "outputs": [],
   "source": [
    "!curl https://digiarch-2025.netlify.app/docs/support/graveyards-data.csv > graves.csv"
   ]
  },
  {
   "cell_type": "code",
   "execution_count": null,
   "metadata": {},
   "outputs": [],
   "source": [
    "# this is an empty code cell"
   ]
  },
  {
   "cell_type": "markdown",
   "metadata": {},
   "source": [
    "# Observation\n",
    "This is a markdown cell. Remember, you can change the cell type by clicking on the code/markdown/raw dropdown menu item at the top. You can make a new cell by hitting the plus button."
   ]
  }
 ],
 "metadata": {
  "kernelspec": {
   "display_name": "Python 3 (ipykernel)",
   "language": "python",
   "name": "python3"
  },
  "language_info": {
   "codemirror_mode": {
    "name": "ipython",
    "version": 3
   },
   "file_extension": ".py",
   "mimetype": "text/x-python",
   "name": "python",
   "nbconvert_exporter": "python",
   "pygments_lexer": "ipython3",
   "version": "3.12.5"
  }
 },
 "nbformat": 4,
 "nbformat_minor": 4
}
