{
 "cells": [
  {
   "cell_type": "markdown",
   "id": "cbc323cf-e35f-4cf8-a7de-249235ab07f5",
   "metadata": {},
   "source": [
    "## Roman Networks in R\n",
    "\n",
    "This notebook is just to show you how the R programming language would handle the same tasks as what you did in [[roman-networks.ipynb]] . Compare how Python does things, versus R. A good [igraph tutorial can be found here](https://robwiederstein.github.io/network_analysis/igraph.html). You might prefer the output and the syntax of R compared to Python; whatever you choose to use, make sure you understand how it does things!\n",
    "\n",
    "We've already got the edges.csv and nodes.csv data, so..."
   ]
  },
  {
   "cell_type": "code",
   "execution_count": null,
   "id": "dd50eddc-da3b-41bc-8457-144b596cd38c",
   "metadata": {},
   "outputs": [],
   "source": [
    "# install igraph; this might take a long time\n",
    "# you only run this line the first time you install igraph:\n",
    "install.packages('igraph')\n",
    "# a lot of stuff gets downloaded and installed."
   ]
  },
  {
   "cell_type": "code",
   "execution_count": null,
   "id": "008c7b5d-3a01-49c9-8499-a153a28ec243",
   "metadata": {},
   "outputs": [],
   "source": [
    "# now tell RStudio you want to use the igraph pacakge and its functions:\n",
    "library('igraph')\n",
    "\n",
    "# now let's load up the data by putting the csv files into nodes and links.\n",
    "# we're keeping the first row as a 'header'\n",
    "\n",
    "nodes <- read.csv(\"nodes.csv\", header=T, as.is=T)\n",
    "links <- read.csv(\"edges.csv\", header=T, as.is=T)"
   ]
  },
  {
   "cell_type": "code",
   "execution_count": null,
   "id": "1421c1b4-797a-48dd-920d-3c45b6dfa455",
   "metadata": {},
   "outputs": [],
   "source": [
    "#examine data\n",
    "head(nodes)\n",
    "head(links)"
   ]
  },
  {
   "cell_type": "code",
   "execution_count": null,
   "id": "4b1c5846-fd2e-4211-837c-8ca2aad0559f",
   "metadata": {},
   "outputs": [],
   "source": [
    "length(unique(nodes$id))\n",
    "# which gives the number of nodes in our data\n",
    "\n",
    "nrow(unique(links[,c(\"source\", \"target\")]))\n",
    "# which gives the number of sources, and number of targets: the number of routes between two cities"
   ]
  },
  {
   "cell_type": "markdown",
   "id": "d0929dae-d565-4584-a968-464aad6b8f2e",
   "metadata": {},
   "source": [
    "# let's make a net\n",
    "\n",
    "Notice that we are telling igraph that the network is directed, that the relationship in eg a letter writing network where Alice to Bob is different than Bob's to Alice (Alice is the _sender_, and Bob is the _receiver_)  or in a Patron-Client relationship Pompeii -> Rome is a different dynamic than Rome -> Pompeii. This isn't always a critical distinction to make and depends on your dataset.\n",
    "\n",
    "AND - we're going to do this _just_ from the edge data\n",
    "\n",
    "Create network from edges only - igraph will infer the nodes\n",
    "\n",
    "`net <- graph_from_data_frame(d=links, directed=T)`\n",
    "\n",
    "(if we wanted to include the node data specifically, we could do this:\n",
    "\n",
    "`net <- graph_from_data_frame(d=links, vertices=nodes, directed=T)`\n",
    "\n",
    "see the difference?"
   ]
  },
  {
   "cell_type": "code",
   "execution_count": null,
   "id": "8b0cd7e7-ee17-45d2-a50d-82a8c6ff1e3a",
   "metadata": {},
   "outputs": [],
   "source": [
    "# type 'net' again and run the line to see how the network is represented.\n",
    "net"
   ]
  },
  {
   "cell_type": "code",
   "execution_count": null,
   "id": "3a9f7b48-ab9c-445e-a3c7-1b5d928995ee",
   "metadata": {},
   "outputs": [],
   "source": [
    "# let's visualizae it\n",
    "\n",
    "plot(net, vertex.label=NA)"
   ]
  },
  {
   "cell_type": "markdown",
   "id": "99eb3d32-73a8-4600-8779-036364d225d1",
   "metadata": {},
   "source": [
    "That's hard to make sense of. Let's make it nicer:"
   ]
  },
  {
   "cell_type": "code",
   "execution_count": null,
   "id": "ce00165a-62cc-432c-b98a-7d489ce77729",
   "metadata": {},
   "outputs": [],
   "source": [
    "# Nicer colors and layout\n",
    "plot(net, \n",
    "     layout = layout_with_fr,           # Fruchterman-Reingold layout\n",
    "     vertex.color = \"lightblue\",        # Node color\n",
    "     vertex.size = 8,                   # Node size\n",
    "     vertex.frame.color = \"white\",      # Node border color\n",
    "     edge.color = \"gray50\",             # Edge color\n",
    "     edge.arrow.size = 0.5,             # Arrow size\n",
    "     vertex.label = NA)                 # No labels"
   ]
  },
  {
   "cell_type": "code",
   "execution_count": null,
   "id": "8f3b7ebc-3217-48d8-8d4a-00a4e0242e4f",
   "metadata": {},
   "outputs": [],
   "source": [
    "# Create histogram of degree distribution\n",
    "hist(deg, \n",
    "     breaks = 20,\n",
    "     main = \"Distribution of Node Degrees\",\n",
    "     xlab = \"Degree (Number of Connections)\",\n",
    "     ylab = \"Frequency\",\n",
    "     col = \"lightblue\",\n",
    "     border = \"white\")\n",
    "\n",
    "# Add some summary stats\n",
    "abline(v = mean(deg), col = \"red\", lwd = 2, lty = 2)\n",
    "legend(\"topright\", paste(\"Mean degree:\", round(mean(deg), 2)), \n",
    "       col = \"red\", lty = 2, lwd = 2)"
   ]
  },
  {
   "cell_type": "code",
   "execution_count": null,
   "id": "de2e8787-938f-4c2d-bdae-b78477867f1f",
   "metadata": {},
   "outputs": [],
   "source": [
    "# Color nodes based on their degree (number of connections)\n",
    "deg <- degree(net)\n",
    "colors <- colorRampPalette(c(\"lightblue\", \"darkred\"))(max(deg))\n",
    "V(net)$color <- colors[deg]\n",
    "\n",
    "plot(net, \n",
    "     layout = layout_with_fr,\n",
    "     vertex.size = 8,\n",
    "     vertex.frame.color = \"white\",\n",
    "     edge.color = \"gray50\",\n",
    "     edge.arrow.size = 0.5,\n",
    "     vertex.label = NA)"
   ]
  },
  {
   "cell_type": "code",
   "execution_count": null,
   "id": "f247f993-4907-40fb-af7e-15f38a5190d9",
   "metadata": {},
   "outputs": [],
   "source": [
    "# Scale node size by degree (add minimum size so small nodes are still visible)\n",
    "node_sizes <- deg * 2 + 5  # Scale factor of 2, minimum size of 5\n",
    "\n",
    "plot(net, \n",
    "     layout = layout_with_fr,\n",
    "     vertex.size = node_sizes,          # Size scaled by degree\n",
    "     vertex.frame.color = \"white\",\n",
    "     edge.color = \"gray50\",\n",
    "     edge.arrow.size = 0.5,\n",
    "     vertex.label = NA,\n",
    "     main = \"Network: Node Size and Color by Degree\")\n",
    "\n",
    "# Optional: Add a legend for the color scale\n",
    "legend(\"topright\", \n",
    "       legend = c(paste(\"Min degree:\", min(deg)), \n",
    "                  paste(\"Max degree:\", max(deg))),\n",
    "       fill = c(\"lightblue\", \"darkred\"),\n",
    "       title = \"Degree\")"
   ]
  },
  {
   "cell_type": "markdown",
   "id": "5e76c1e9-2d28-4597-b03c-f19d83e099d7",
   "metadata": {},
   "source": [
    "Here are some options for better layouts:\n",
    "\n",
    "+ Fruchterman-Reingold (most similar to Force Atlas)\n",
    "`layout_with_fr(net)`\n",
    "\n",
    "+ Kamada-Kawai\n",
    "`layout_with_kk(net)`\n",
    "\n",
    "+ GraphOpt (similar algorithm)\n",
    "`layout_with_graphopt(net)`\n",
    "\n",
    "+ Large Graph Layout (good for big networks)\n",
    "`layout_with_lgl(net)`\n",
    "\n",
    "Try modifying some of those plot layouts. Remember, the best layout is the one that helps you interpret what you're looking at."
   ]
  },
  {
   "cell_type": "code",
   "execution_count": null,
   "id": "d60da013-c96e-4c75-a6d8-aad3dee87117",
   "metadata": {},
   "outputs": [],
   "source": [
    "# Calculate closeness centrality\n",
    "closeness_cent <- closeness(net, normalized = TRUE)\n",
    "\n",
    "# Histogram\n",
    "hist(closeness_cent, \n",
    "     breaks = 20,\n",
    "     main = \"Distribution of Closeness Centrality\",\n",
    "     xlab = \"Closeness Centrality\",\n",
    "     ylab = \"Frequency\",\n",
    "     col = \"lightgreen\",\n",
    "     border = \"white\")\n",
    "abline(v = mean(closeness_cent), col = \"red\", lwd = 2, lty = 2)\n",
    "\n",
    "# Network plot colored by closeness\n",
    "close_colors <- colorRampPalette(c(\"lightblue\", \"darkgreen\"))(100)\n",
    "V(net)$color <- close_colors[as.numeric(cut(closeness_cent, breaks = 100))]\n",
    "\n",
    "plot(net, \n",
    "     layout = layout_with_fr,\n",
    "     vertex.size = closeness_cent * 50 + 5,  # Scale by closeness\n",
    "     vertex.color = V(net)$color,\n",
    "     vertex.frame.color = \"white\",\n",
    "     edge.color = \"gray50\",\n",
    "     edge.arrow.size = 0.5,\n",
    "     vertex.label = NA,\n",
    "     main = \"Network: Closeness Centrality\")"
   ]
  },
  {
   "cell_type": "code",
   "execution_count": null,
   "id": "6f2ae8c8-0c39-4090-bc5a-15e2a7099fd6",
   "metadata": {},
   "outputs": [],
   "source": [
    "# Calculate betweenness centrality\n",
    "betweenness_cent <- betweenness(net, normalized = TRUE)\n",
    "\n",
    "# Histogram\n",
    "hist(betweenness_cent, \n",
    "     breaks = 20,\n",
    "     main = \"Distribution of Betweenness Centrality\",\n",
    "     xlab = \"Betweenness Centrality\",\n",
    "     ylab = \"Frequency\",\n",
    "     col = \"orange\",\n",
    "     border = \"white\")\n",
    "abline(v = mean(betweenness_cent), col = \"red\", lwd = 2, lty = 2)\n",
    "\n",
    "# Network plot colored by betweenness\n",
    "between_colors <- colorRampPalette(c(\"lightblue\", \"darkorange\"))(100)\n",
    "V(net)$color <- between_colors[as.numeric(cut(betweenness_cent, breaks = 100))]\n",
    "\n",
    "plot(net, \n",
    "     layout = layout_with_fr,\n",
    "     vertex.size = sqrt(betweenness_cent) * 10 + 5,  # Square root scaling\n",
    "     vertex.color = V(net)$color,\n",
    "     vertex.frame.color = \"white\",\n",
    "     edge.color = \"gray50\",\n",
    "     edge.arrow.size = 0.5,\n",
    "     vertex.label = NA,\n",
    "     main = \"Network: Betweenness Centrality\")"
   ]
  },
  {
   "cell_type": "code",
   "execution_count": null,
   "id": "6f9bef34-d4d7-44c2-94fb-e42096933b5b",
   "metadata": {},
   "outputs": [],
   "source": [
    "# Detect communities using modularity\n",
    "communities <- cluster_louvain(as.undirected(net))  # Convert to undirected for community detection\n",
    "modularity_score <- modularity(communities)\n",
    "\n",
    "# Print modularity score\n",
    "cat(\"Modularity score:\", modularity_score, \"\\n\")\n",
    "cat(\"Number of communities:\", length(communities), \"\\n\")\n",
    "\n",
    "# Histogram of community sizes\n",
    "community_sizes <- sizes(communities)\n",
    "hist(community_sizes, \n",
    "     breaks = 10,\n",
    "     main = paste(\"Distribution of Community Sizes\\nModularity =\", round(modularity_score, 3)),\n",
    "     xlab = \"Community Size\",\n",
    "     ylab = \"Frequency\",\n",
    "     col = \"purple\",\n",
    "     border = \"white\")\n",
    "\n",
    "# Network plot colored by community\n",
    "community_colors <- rainbow(length(communities))\n",
    "V(net)$color <- community_colors[membership(communities)]\n",
    "\n",
    "plot(net, \n",
    "     layout = layout_with_fr,\n",
    "     vertex.size = 8,\n",
    "     vertex.color = V(net)$color,\n",
    "     vertex.frame.color = \"white\",\n",
    "     edge.color = \"gray50\",\n",
    "     edge.arrow.size = 0.5,\n",
    "     vertex.label = NA,\n",
    "     main = paste(\"Network: Communities (Modularity =\", round(modularity_score, 3), \")\"))"
   ]
  },
  {
   "cell_type": "code",
   "execution_count": null,
   "id": "4795a8b0-3c43-4092-b266-3b5aef267b36",
   "metadata": {},
   "outputs": [],
   "source": [
    "# Clean the nodes data (remove rows with missing values)\n",
    "nodes_clean <- nodes[complete.cases(nodes), ]\n",
    "\n",
    "# Match and add attributes to existing vertices\n",
    "# Get the current vertex names in the network\n",
    "current_vertices <- V(net)$name\n",
    "\n",
    "# Match nodes data to current vertices\n",
    "matched_indices <- match(current_vertices, nodes_clean$id)  #'id' column in nodes\n",
    "\n",
    "# Add labels (and other attributes) to vertices\n",
    "V(net)$label <- nodes_clean$label[matched_indices]\n",
    "\n",
    "# You can also add other node attributes if they exist\n",
    "# V(net)$other_attribute <- nodes_clean$other_column[matched_indices]"
   ]
  },
  {
   "cell_type": "code",
   "execution_count": null,
   "id": "8d4d8665-358e-4e9c-b705-9e9b1e85fc5d",
   "metadata": {},
   "outputs": [],
   "source": [
    "# Calculate degree with labels\n",
    "deg <- degree(net)\n",
    "colors <- colorRampPalette(c(\"lightblue\", \"darkred\"))(max(deg))\n",
    "V(net)$color <- colors[deg]\n",
    "\n",
    "plot(net, \n",
    "     layout = layout_with_fr,\n",
    "     vertex.size = deg * 2 + 5,\n",
    "     vertex.color = V(net)$color,\n",
    "     vertex.frame.color = \"white\",\n",
    "     edge.color = \"gray50\",\n",
    "     edge.arrow.size = 0.5,\n",
    "     vertex.label = V(net)$label,\n",
    "     vertex.label.cex = 0.7,        # Label size\n",
    "     vertex.label.color = \"black\",\n",
    "     vertex.label.dist = 1,         # Distance from vertex\n",
    "     main = \"Network: Degree (with labels)\")"
   ]
  },
  {
   "cell_type": "code",
   "execution_count": null,
   "id": "75efcb60-411c-4e48-b432-5b2f83eb1682",
   "metadata": {},
   "outputs": [],
   "source": [
    "#closeness with labels\n",
    "closeness_cent <- closeness(net, normalized = TRUE)\n",
    "close_colors <- colorRampPalette(c(\"lightblue\", \"darkgreen\"))(100)\n",
    "V(net)$color <- close_colors[as.numeric(cut(closeness_cent, breaks = 100))]\n",
    "\n",
    "plot(net, \n",
    "     layout = layout_with_fr,\n",
    "     vertex.size = closeness_cent * 50 + 5,\n",
    "     vertex.color = V(net)$color,\n",
    "     vertex.frame.color = \"white\",\n",
    "     edge.color = \"gray50\",\n",
    "     edge.arrow.size = 0.5,\n",
    "     vertex.label = V(net)$label,\n",
    "     vertex.label.cex = 0.7,\n",
    "     vertex.label.color = \"black\",\n",
    "     vertex.label.dist = 1,\n",
    "     main = \"Network: Closeness Centrality (with labels)\")"
   ]
  },
  {
   "cell_type": "code",
   "execution_count": null,
   "id": "c86ade6e-202b-4a2b-81ad-86127260e4cd",
   "metadata": {},
   "outputs": [],
   "source": [
    "# betweeness with labels\n",
    "betweenness_cent <- betweenness(net, normalized = TRUE)\n",
    "between_colors <- colorRampPalette(c(\"lightblue\", \"darkorange\"))(100)\n",
    "V(net)$color <- between_colors[as.numeric(cut(betweenness_cent, breaks = 100))]\n",
    "\n",
    "plot(net, \n",
    "     layout = layout_with_fr,\n",
    "     vertex.size = sqrt(betweenness_cent) * 10 + 5,\n",
    "     vertex.color = V(net)$color,\n",
    "     vertex.frame.color = \"white\",\n",
    "     edge.color = \"gray50\",\n",
    "     edge.arrow.size = 0.5,\n",
    "     vertex.label = V(net)$label,\n",
    "     vertex.label.cex = 0.7,\n",
    "     vertex.label.color = \"black\",\n",
    "     vertex.label.dist = 1,\n",
    "     main = \"Network: Betweenness Centrality (with labels)\")"
   ]
  },
  {
   "cell_type": "code",
   "execution_count": null,
   "id": "012e3938-5103-4663-b5ac-de3c9fd71fad",
   "metadata": {},
   "outputs": [],
   "source": [
    "#modularity with labels\n",
    "communities <- cluster_louvain(as.undirected(net))\n",
    "community_colors <- rainbow(length(communities))\n",
    "V(net)$color <- community_colors[membership(communities)]\n",
    "\n",
    "plot(net, \n",
    "     layout = layout_with_fr,\n",
    "     vertex.size = 8,\n",
    "     vertex.color = V(net)$color,\n",
    "     vertex.frame.color = \"white\",\n",
    "     edge.color = \"gray50\",\n",
    "     edge.arrow.size = 0.5,\n",
    "     vertex.label = V(net)$label,\n",
    "     vertex.label.cex = 0.7,\n",
    "     vertex.label.color = \"black\",\n",
    "     vertex.label.dist = 1,\n",
    "     main = \"Network: Communities (with labels)\")"
   ]
  },
  {
   "cell_type": "markdown",
   "id": "f167b294-f4ee-4d70-8485-5c2b5c263486",
   "metadata": {},
   "source": [
    "If the labels are too crowded, you can:\n",
    "\n",
    "+ Make labels smaller: `vertex.label.cex = 0.5`\n",
    "+ Only show labels for high-centrality nodes: `vertex.label = ifelse(deg > quantile(deg, 0.9), V(net)$label, NA)`\n",
    "+ Use different label positioning: `vertex.label.dist = 0` (on the vertex) or `vertex.label.dist = 2` (further away)"
   ]
  }
 ],
 "metadata": {
  "kernelspec": {
   "display_name": "R",
   "language": "R",
   "name": "ir"
  },
  "language_info": {
   "codemirror_mode": "r",
   "file_extension": ".r",
   "mimetype": "text/x-r-source",
   "name": "R",
   "pygments_lexer": "r",
   "version": "4.2.1"
  }
 },
 "nbformat": 4,
 "nbformat_minor": 5
}
