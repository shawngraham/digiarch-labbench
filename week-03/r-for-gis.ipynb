{
 "cells": [
  {
   "cell_type": "markdown",
   "id": "46f92d03-c49f-450d-84e9-a1839b197862",
   "metadata": {},
   "source": [
    "# Scripting GIS with R\n",
    "\n",
    "[Daniel Contreras has a chapter in Ben Marwick’s online book, ‘How To do Archaeological Science in R’ about using R as a GIS](https://benmarwick.github.io/How-To-Do-Archaeological-Science-Using-R/using-r-as-a-gis-working-with-raster-and-vector-data.html). We’re going to follow along with that chapter, but I have modified the code slightly so that it will run in our lab bench.  \n",
    "\n",
    "## You can't run this notebook unless you have the R kernel installed\n",
    "\n",
    "Back in week 1, I mentioned that our labbench had to be equipped with certain other tools so that your computer would understand the code we're going to use. This is one of those moments. Here, we need an 'R kernel' installed so that the machine understands the R statistical programming language. Make sure to run [[r_kernel_install.ipynb]] first, before you go any further. After you run that computational notebook successfully, **close and then reopen** Jupyter.\n",
    "\n",
    "When you reopen jupyterlab desktop (our labbench), and then open _this_ file, you should see in the top-right of the interface a capital letter R:\n",
    "\n",
    "![](r-is-running.png)\n",
    "\n",
    "Note the empty circle. That means the kernel is idle; when it's doing something, it'll be full."
   ]
  },
  {
   "cell_type": "markdown",
   "id": "b876c211-d76a-4a91-ac7c-4f8f69b1499f",
   "metadata": {},
   "source": [
    "## The Task\n",
    "\n",
    "This notebook is derived from the work of Daniel Contreras [in 'How to do Archaeological Science Using R](https://benmarwick.github.io/How-To-Do-Archaeological-Science-Using-R/using-r-as-a-gis-working-with-raster-and-vector-data.html). I'll just quote Contreras:\n",
    "\n",
    ">A common GIS task in archaeology is that of relating raster and vector data - e.g., relating site locations to environmental variables such as elevation, slope, and aspect. It’s common to do this by calculating values for the point locations in a shapefile of sites, and often of interest to compare environmental variables across some aspect of site variability - function, time period, size, etc. Here we’ll take a slightly more robust approach that looks at the areas around sites rather than their precise locations, calculating a buffer around each site location and then averaging the values of multiple environmental variables within those buffers. For simplicity we’ll use a DEM and rasters of slope and aspect that we can derive from it, but any other raster data could also be employed. Using a fictionalized dataset for a small area in Provence, we’ll take a look at some tools for exploring spatial data, and show that the areas settled in the Early Iron Age and the Gallo-Roman Period were significantly distinct with respect to some variables, but similar in others. <Br><br> We might hypothesize, for instance, that the Roman colonization of the area was based on cereal agriculture production for export, and that as a result Gallo-Roman period settlement would have prioritized relatively low, flat land appropriate for such activity. We could test this hypothesis by comparing the areas occupied in the two periods with respect to elevation and slope."
   ]
  },
  {
   "cell_type": "markdown",
   "id": "e47500b9-68f3-441e-80dd-280176cbeaa0",
   "metadata": {},
   "source": [
    "## Let's get what we need"
   ]
  },
  {
   "cell_type": "code",
   "execution_count": null,
   "id": "0e12bd4c-4759-4877-87ec-73b76334dacc",
   "metadata": {},
   "outputs": [],
   "source": [
    "# this might take a couple of minutes to install.\n",
    "# go get a cup of coffee\n",
    "\n",
    "install.packages(c(\"sf\", \"terra\"), type = \"binary\")\n",
    "install.packages(c(\"protolite\"), type = \"binary\")\n",
    "install.packages(c(\"geojsonio\"))\n"
   ]
  },
  {
   "cell_type": "markdown",
   "id": "55692f7f-a27f-4744-8dfa-b0258e491f2d",
   "metadata": {},
   "source": [
    "Just as with Python, those packages bind together lower-level commands in complicated ways in order to enable new functions for us. In this case, these packages allow us to deal with the various kinds of data that a GIS might use. The next cell explicitly tells the kernel to check these packages when encountering commands in order to know what to do."
   ]
  },
  {
   "cell_type": "code",
   "execution_count": null,
   "id": "6c2a7560-f47f-4589-8838-ae5967c8d972",
   "metadata": {},
   "outputs": [],
   "source": [
    "require(terra)     # for dealing with raster data\n",
    "require(sf)        # for dealing with vector data\n",
    "require(curl) \n",
    "require(lattice)\n",
    "require(gridExtra)\n",
    "\n",
    "## you'll get some warning messages, but that's ok, you can ignore them."
   ]
  },
  {
   "cell_type": "markdown",
   "id": "ed4855d7-9825-47aa-8eef-a8f1b924c795",
   "metadata": {},
   "source": [
    "A geographic information system uses the metaphor of 'layers' to manage all kinds of geospatial data. By stacking up layers, we can then do computations down _through_ the layers. We might want to know if archaeological sites are associated with a particular kind of geomorphology, for instance. A GIS allows us to see how an archaeological layer containing specific kinds of features _intersects_ with a specific kind of soil.\n",
    "\n",
    "But first we need to get data. NASA has made available 'digital elevation models' from 'shuttle radar topography' missions ([details here](https://www.earthdata.nasa.gov/data/instruments/srtm)) at a variety of resolutions. We're going to get that data.\n"
   ]
  },
  {
   "cell_type": "code",
   "execution_count": null,
   "id": "b159d997-01b9-42cc-87d8-1a65e6d5097b",
   "metadata": {},
   "outputs": [],
   "source": [
    "# Load data\n",
    "# Import 30m DEM from NASA SRTM data in geotiff format\n",
    "\n",
    "# Download the DEM file\n",
    "x <- \"https://raw.githubusercontent.com/benmarwick/How-To-Do-Archaeological-Science-Using-R/master/05_Contreras/demo_files/areaDEM.tif\"\n",
    "download.file(x, destfile = \"areaDEM.tif\", method = \"curl\")"
   ]
  },
  {
   "cell_type": "markdown",
   "id": "c0d556be-6a4c-497d-b92f-84f8c6d45493",
   "metadata": {},
   "source": [
    "The digital elevation model is a kind of image file, where the different colour pixel values equal different elevations. We're going to load that image into our notebook as a raster, and then match it (\"project to\") the real-world coordinate system UTM with WGS84 datum."
   ]
  },
  {
   "cell_type": "code",
   "execution_count": null,
   "id": "d0faee01-7ecc-43f3-88b0-0a0a02ef4773",
   "metadata": {},
   "outputs": [],
   "source": [
    "# Load as raster using terra\n",
    "areaDEM <- rast(\"areaDEM.tif\")\n",
    "\n",
    "# Project to UTM using terra\n",
    "areaDEMutm <- project(areaDEM, \"EPSG:32631\") # EPSG:32631 = UTM Zone 31N\n",
    "\n",
    "\n",
    "# Check the result\n",
    "areaDEMutm"
   ]
  },
  {
   "cell_type": "markdown",
   "id": "22d35a94-74d3-421a-9d83-94b87747c30d",
   "metadata": {},
   "source": [
    "Now we'll load a number of vector files. In a GIS, these are called 'shapefiles' and they literally describe the shape of different kinds of information as geometric polygons or points. A shapefile comes with associated supporting files. All of them are necessary for the GIS to interpret things correctly. This will give us our archaeological site data."
   ]
  },
  {
   "cell_type": "code",
   "execution_count": null,
   "id": "91471123-cf80-45bf-ab77-e066def74e09",
   "metadata": {},
   "outputs": [],
   "source": [
    "# Load vector data (sites)\n",
    "# Download all shapefile components\n",
    "ap1 <- \"https://raw.githubusercontent.com/benmarwick/How-To-Do-Archaeological-Science-Using-R/master/05_Contreras/demo_files/areaPoints.shp\"\n",
    "ap2 <- \"https://raw.githubusercontent.com/benmarwick/How-To-Do-Archaeological-Science-Using-R/master/05_Contreras/demo_files/areaPoints.dbf\"\n",
    "ap3 <- \"https://raw.githubusercontent.com/benmarwick/How-To-Do-Archaeological-Science-Using-R/master/05_Contreras/demo_files/areaPoints.prj\"\n",
    "ap4 <- \"https://raw.githubusercontent.com/benmarwick/How-To-Do-Archaeological-Science-Using-R/master/05_Contreras/demo_files/areaPoints.shx\"\n",
    "\n",
    "download.file(ap1, destfile = \"areaPoints.shp\", method = \"curl\")\n",
    "download.file(ap2, destfile = \"areaPoints.dbf\", method = \"curl\")\n",
    "download.file(ap3, destfile = \"areaPoints.prj\", method = \"curl\")\n",
    "download.file(ap4, destfile = \"areaPoints.shx\", method = \"curl\")"
   ]
  },
  {
   "cell_type": "markdown",
   "id": "8ab96964-80c2-4520-a24c-961661e95da1",
   "metadata": {},
   "source": [
    "Let's take a look at what we've got. 'EIA' = early iron age, 'GalRom' = Gallo-Roman. The early iron age predates the Gallo-Roman period, fyi."
   ]
  },
  {
   "cell_type": "code",
   "execution_count": null,
   "id": "d00e1edf-3c5e-418f-a19c-9be0541d14bf",
   "metadata": {},
   "outputs": [],
   "source": [
    "# Read shapefile using sf\n",
    "sites <- st_read(\"areaPoints.shp\")"
   ]
  },
  {
   "cell_type": "code",
   "execution_count": null,
   "id": "c620c93b-f765-4783-806f-f8d7074692af",
   "metadata": {},
   "outputs": [],
   "source": [
    "# Subset points to eliminate sites of uncertain date\n",
    "sites_sub <- sites[sites$period == \"EIA\" | sites$period == \"GalRom\", ]\n",
    "\n",
    "# Drop unused factor levels\n",
    "sites_sub$period <- factor(sites_sub$period)\n",
    "\n",
    "# Transform to UTM using sf\n",
    "sites_sub_utm <- st_transform(sites_sub, crs = \"EPSG:32631\")  # EPSG:32631 = UTM Zone 31N\n",
    "\n",
    "# If you want to plot with the DEM\n",
    "plot(areaDEMutm, main = \"DEM and Sites\")\n",
    "plot(st_geometry(sites_sub_utm), add = TRUE, col = \"red\", pch = 16)"
   ]
  },
  {
   "cell_type": "markdown",
   "id": "4c22d037-c632-4953-9373-aa4607033f39",
   "metadata": {},
   "source": [
    "**Does anything jump out at you?**\n",
    "\n",
    "You might want to make a new markdown cell and record your thoughts!"
   ]
  },
  {
   "cell_type": "markdown",
   "id": "2755c41a-c95a-469b-a39e-f7e0024ee4e8",
   "metadata": {},
   "source": [
    "## Derive new data from the DEM\n",
    "\n",
    "In the next cell, we use the 'terrain' function with its options 'slope' and 'aspect' to calculate new information from the digital elevation model. 'Slope' is how steep the hill is, and 'aspect' is which direction (in degrees) that bit of land faces."
   ]
  },
  {
   "cell_type": "code",
   "execution_count": null,
   "id": "b3c539cf-8aba-43e5-9c4c-16965302f52e",
   "metadata": {},
   "outputs": [],
   "source": [
    "# Calculate slope in degrees\n",
    "area_slope <- terrain(areaDEMutm, v = \"slope\", unit = \"degrees\")\n",
    "\n",
    "# Calculate aspect in degrees\n",
    "area_aspect <- terrain(areaDEMutm, v = \"aspect\", unit = \"degrees\")\n",
    "\n",
    "# Check the results\n",
    "area_slope\n",
    "area_aspect\n"
   ]
  },
  {
   "cell_type": "code",
   "execution_count": null,
   "id": "b09cc2db-daa0-456f-bca1-2d277292d347",
   "metadata": {},
   "outputs": [],
   "source": [
    "# Create a raster stack using terra\n",
    "terrainstack <- c(areaDEMutm, area_slope, area_aspect)\n",
    "names(terrainstack) <- c(\"elevation\", \"slope\", \"aspect\")\n",
    "\n",
    "# Check the stack\n",
    "# This will give us some summary information for the three layers\n",
    "terrainstack"
   ]
  },
  {
   "cell_type": "markdown",
   "id": "0db1a085-972b-4fa2-a86b-a74bb2666905",
   "metadata": {},
   "source": [
    "### Plotting the Data\n",
    "Now that we have that data for each pixel in our DEM, we can visualize those layers and see where our sites appear on them. We create a plot and set its parameters, and then we fill the plot (we plot inside the plot, ha) with three different visualizations, whose characteristics we set. "
   ]
  },
  {
   "cell_type": "code",
   "execution_count": null,
   "id": "b6ec0a40-18aa-4429-99e8-f1892ee8e41f",
   "metadata": {},
   "outputs": [],
   "source": [
    "# Set up a large plot size and layout for single column + legend\n",
    "options(repr.plot.width = 12, repr.plot.height = 15)\n",
    "\n",
    "# Create layout: 3 rows, 2 columns\n",
    "# Column 1 (plots): rows 1-3, Column 2 (legend): rows 1-3 combined\n",
    "layout(matrix(c(1, 4,\n",
    "                2, 4, \n",
    "                3, 4), \n",
    "              nrow = 3, ncol = 2, byrow = TRUE),\n",
    "       widths = c(3, 1))  # Make plots wider than legend area\n",
    "\n",
    "# Set margins for the plot panels\n",
    "par(mar = c(4, 4, 3, 1))  # Reduced right margin since legend is separate\n",
    "\n",
    "# Panel 1: Elevation\n",
    "plot(areaDEMutm, main = \"Elevation\", col = terrain.colors(50))\n",
    "points(coords_utm, \n",
    "       pch = ifelse(sites_sub_utm$period == \"EIA\", 18, 20),\n",
    "       col = ifelse(sites_sub_utm$period == \"EIA\", \"red\", \"blue\"),\n",
    "       cex = 0.8)\n",
    "\n",
    "# Panel 2: Slope\n",
    "plot(area_slope, main = \"Slope (degrees)\", col = terrain.colors(50))\n",
    "points(coords_utm, \n",
    "       pch = ifelse(sites_sub_utm$period == \"EIA\", 18, 20),\n",
    "       col = ifelse(sites_sub_utm$period == \"EIA\", \"red\", \"blue\"),\n",
    "       cex = 0.8)\n",
    "\n",
    "# Panel 3: Aspect\n",
    "plot(area_aspect, main = \"Aspect (degrees)\", col = terrain.colors(50))\n",
    "points(coords_utm, \n",
    "       pch = ifelse(sites_sub_utm$period == \"EIA\", 18, 20),\n",
    "       col = ifelse(sites_sub_utm$period == \"EIA\", \"red\", \"blue\"),\n",
    "       cex = 0.8)\n",
    "\n",
    "# Panel 4: Legend (spanning all three rows)\n",
    "par(mar = c(0, 0, 0, 0))  # No margins for legend panel\n",
    "plot.new()\n",
    "legend(\"center\", \n",
    "       legend = c(\"EIA\", \"GalRom\"), \n",
    "       pch = c(18, 20), \n",
    "       col = c(\"red\", \"blue\"),\n",
    "       bg = \"white\",\n",
    "       cex = 1.2,\n",
    "       pt.cex = 1.5,\n",
    "       box.lwd = 1.5)\n",
    "\n",
    "# Reset plot parameters\n",
    "par(mfrow = c(1, 1))\n",
    "layout(1)  # Reset layout. You have to do this or R gets cranky the next time you plot something."
   ]
  },
  {
   "cell_type": "markdown",
   "id": "027afd93-6c22-4c42-b6a7-6b4fd6c49580",
   "metadata": {},
   "source": [
    "**What do you see?**\n",
    "You might want to make a new markdown cell and record your thoughts! Remember, our original hypothesis was that Gallo-Roman period settlement would have prioritized relatively low, flat land appropriate for such activity. \n",
    "\n",
    "Also, here's how you might want to change some of the point elements:\n",
    "\n",
    "`pch = ifelse(sites_sub_utm$period == \"EIA\", 18, 20)`\n",
    "+ `pch` = \"plotting character\" - controls the shape of the points\n",
    "+ Uses `ifelse()` to conditionally assign shapes based on the \"period\" column\n",
    "   + If period is \"EIA\" → uses pch 18 (filled diamond ♦)\n",
    "   + If period is anything else → uses pch 20 (filled circle ●)\n",
    "\n",
    "`col = ifelse(sites_sub_utm$period == \"EIA\", \"red\", \"blue\")`\n",
    "+ col = color of the points\n",
    "+ Again uses conditional logic based on period\n",
    "   + EIA sites → red points\n",
    "   + Non-EIA sites → blue points\n",
    "\n",
    "`cex = 0.8`\n",
    "`cex` = \"character expansion\" - controls the size of the points\n",
    "   + 0.8 = makes points 80% of their default size (slightly smaller)\n",
    "   + Values > 1 make points bigger, < 1 make them smaller\n"
   ]
  },
  {
   "cell_type": "markdown",
   "id": "bd2e6c09-64ca-45ec-a4b4-d9f16aac6547",
   "metadata": {},
   "source": [
    "## Box Plotting and Exploratory Data Analysis\n",
    "\n",
    "Picking things out by eye won't get you very far, in the long run. We're going to make some boxplots for the three different elements 'elevation', 'slope', and 'aspect'. A box plot is a way of summarizing the data so that you can see where the majority of your data lies, as well as its distribution and outliers. The 'notch' in the box plot will indicate roughly the 95% confidence interval for the median values."
   ]
  },
  {
   "cell_type": "code",
   "execution_count": null,
   "id": "dcb52e65-f56c-4894-af95-e35f5a0d2dbc",
   "metadata": {},
   "outputs": [],
   "source": [
    "# Extract values around sites using terra\n",
    "# Convert sf object to SpatVector for terra\n",
    "sites_vect <- vect(sites_sub_utm)\n",
    "\n",
    "# Extract mean values within 250m buffer\n",
    "# We chose '250 m' rather arbitrarily. It might be that that's the _wrong_ value. \n",
    "# What would make sense archaeologically? How far could a person walk in a day, in a morning, in an hour?\n",
    "# One might want to read some of the ancient Roman agronomists to get a sense of what value makes sense.\n",
    "# Even though we're doing quantitative analysis here, the choices we make need to be grounded in an argument!\n",
    "# After you've run through this notebook, you might want to come back and try some different values here.\n",
    "sites_vals <- extract(terrainstack, sites_vect, buffer = 250, fun = mean, na.rm = TRUE)\n",
    "\n",
    "# Combine with original data\n",
    "sites_data <- data.frame(\n",
    "  period = sites_sub_utm$period,\n",
    "  sites_vals[, -1]  # Remove ID column\n",
    ")\n",
    "\n",
    "# Check sample sizes\n",
    "summary(sites_data$period)\n"
   ]
  },
  {
   "cell_type": "code",
   "execution_count": null,
   "id": "a2df6bb8-c625-44e8-95d5-d6ba55a93dfd",
   "metadata": {},
   "outputs": [],
   "source": [
    "# Create boxplots using lattice\n",
    "elevplot <- bwplot(elevation ~ period,\n",
    "                   data = sites_data,\n",
    "                   notch = TRUE,\n",
    "                   pch = \"|\",\n",
    "                   fill = \"grey\",\n",
    "                   box.ratio = 0.25,\n",
    "                   par.settings = list(\n",
    "                     box.rectangle = list(\n",
    "                       col = c(\"red\", \"blue\"))),\n",
    "                   ylab = \"masl\",\n",
    "                   main = \"Elevation\",\n",
    "                   scales = list(x = list(labels = c(\"Early Iron Age\\n(n = 94)\",\n",
    "                                                     \"Gallo-Roman\\n(n = 491)\")),\n",
    "                                 rot = 60))\n",
    "\n",
    "# Display elevation plot\n",
    "elevplot"
   ]
  },
  {
   "cell_type": "code",
   "execution_count": null,
   "id": "42a41487-b812-44ad-87e7-9f3bff4cd7c3",
   "metadata": {},
   "outputs": [],
   "source": [
    "# Slope boxplot\n",
    "slopeplot <- bwplot(slope ~ period,\n",
    "                    data = sites_data,\n",
    "                    notch = TRUE,\n",
    "                    pch = \"|\",\n",
    "                    fill = \"grey\",\n",
    "                    box.ratio = 0.25,\n",
    "                    par.settings = list(\n",
    "                      box.rectangle = list(\n",
    "                        col = c(\"red\", \"blue\"))),\n",
    "                    ylab = \"slope (degrees)\",\n",
    "                    main = \"Slope\",\n",
    "                    scales = list(x = list(labels = c(\"Early Iron Age\\n(n = 94)\",\n",
    "                                                      \"Gallo-Roman\\n(n = 491)\")),\n",
    "                                  rot = 60))\n",
    "\n",
    "# Display slope plot\n",
    "slopeplot"
   ]
  },
  {
   "cell_type": "code",
   "execution_count": null,
   "id": "fe36aa69-99e9-4540-9d9f-f17c5b432eea",
   "metadata": {},
   "outputs": [],
   "source": [
    "# Aspect boxplot\n",
    "aspectplot <- bwplot(aspect ~ period,\n",
    "                     data = sites_data,\n",
    "                     notch = TRUE,\n",
    "                     pch = \"|\",\n",
    "                     fill = \"grey\",\n",
    "                     box.ratio = 0.25,\n",
    "                     par.settings = list(\n",
    "                       box.rectangle = list(\n",
    "                         col = c(\"red\", \"blue\"))),\n",
    "                     ylab = \"aspect (degrees)\",\n",
    "                     main = \"Aspect\",\n",
    "                     scales = list(x = list(labels = c(\"Early Iron Age\\n(n = 94)\",\n",
    "                                                       \"Gallo-Roman\\n(n = 491)\")),\n",
    "                                   rot = 60))\n",
    "\n",
    "# Display aspect plot\n",
    "aspectplot"
   ]
  },
  {
   "cell_type": "markdown",
   "id": "f22c07e8-e5f3-4904-9625-ad935dcba121",
   "metadata": {},
   "source": [
    "## Let's plot those side by side\n",
    "\n",
    "Because it'll make it easier to inspect and compare."
   ]
  },
  {
   "cell_type": "code",
   "execution_count": null,
   "id": "8b4ec95f-ba4c-4a06-848b-7c82af5e0003",
   "metadata": {},
   "outputs": [],
   "source": [
    "# Combine all three plots\n",
    "grid.arrange(elevplot, slopeplot, aspectplot, nrow = 1, ncol = 3)\n"
   ]
  },
  {
   "cell_type": "markdown",
   "id": "175a3ac2-a45e-40a9-9b71-425cf7ae522e",
   "metadata": {},
   "source": [
    "So... what do you think, re our original hypothesis? What other kind of data might be pertinent? "
   ]
  },
  {
   "cell_type": "markdown",
   "id": "532854bb-cc52-4c6a-a7ac-900323b5383e",
   "metadata": {},
   "source": []
  },
  {
   "cell_type": "markdown",
   "id": "ee6a91f0-3791-4be3-819a-8ae5fa5dc09c",
   "metadata": {},
   "source": [
    "This only scratches the surface (and not all that deeply) of what you might do re GIS and spatial analysis. But notice what we're _not_ doing here: I'm not giving you piles of screenshots telling you to click here... now click here.... now click on this... oh but you've got an older version, so click _this_ instead... click. Instead, we have a single document, with actionable code, and you are able to re-run the same work that I have done on my machine.\n",
    "\n",
    "Most of you are coming from the History department: imagine what _reproducible_ historical research might look like..."
   ]
  },
  {
   "cell_type": "code",
   "execution_count": null,
   "id": "88bd9ce3-3de1-4ae8-8c45-7d487d68630e",
   "metadata": {},
   "outputs": [],
   "source": []
  }
 ],
 "metadata": {
  "kernelspec": {
   "display_name": "R",
   "language": "R",
   "name": "ir"
  },
  "language_info": {
   "codemirror_mode": "r",
   "file_extension": ".r",
   "mimetype": "text/x-r-source",
   "name": "R",
   "pygments_lexer": "r",
   "version": "4.2.1"
  }
 },
 "nbformat": 4,
 "nbformat_minor": 5
}
